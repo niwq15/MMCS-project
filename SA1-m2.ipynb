{
 "cells": [
  {
   "cell_type": "code",
   "execution_count": 1,
   "id": "a3022f62",
   "metadata": {},
   "outputs": [],
   "source": [
    "import xpress as xp\n",
    "import pandas as pd\n",
    "import numpy as np\n",
    "\n",
    "import re"
   ]
  },
  {
   "cell_type": "code",
   "execution_count": 2,
   "id": "3df2d227",
   "metadata": {},
   "outputs": [],
   "source": [
    "# Data input\n",
    "demand = pd.read_excel('Demand_data1.xlsx')\n",
    "#chargepoints = pd.read_excel('Charging_points.xlsx')\n",
    "#potentialcharge = pd.read_excel('Potential_charging_points.xlsx')\n",
    "#interest = pd.read_excel('Interest _points.xlsx')"
   ]
  },
  {
   "cell_type": "code",
   "execution_count": 3,
   "id": "7f3098a9",
   "metadata": {},
   "outputs": [],
   "source": [
    "# Create a problem\n",
    "prob = xp.problem(name='pro')"
   ]
  },
  {
   "cell_type": "code",
   "execution_count": 4,
   "id": "be109d24",
   "metadata": {},
   "outputs": [],
   "source": [
    "# Defining the index sets\n",
    "#number_of_periods = 4\n",
    "number_of_grids = 434\n",
    "type_of_chargers = 3\n",
    "\n",
    "number_of_chargers = 78\n",
    "number_of_pchargers = 325\n",
    "\n",
    "#Periods = range(number_of_years)\n",
    "Grids = range(number_of_grids)\n",
    "Chargers = range(type_of_chargers)\n"
   ]
  },
  {
   "cell_type": "code",
   "execution_count": 5,
   "id": "9ba2de87",
   "metadata": {},
   "outputs": [],
   "source": [
    "## Define variables \n",
    "# calculate the individual grid supply \n",
    "isupply = [xp.var (name=\"isupply_{0}\".format(g), lb=0) for g in Grids]\n",
    "# final supply amount given the assumption about power sharing between grids\n",
    "tsupply = [xp.var (name=\"tsupply_{0}\".format(g), lb=0) for g in Grids]\n",
    "\n",
    "# demand-supply difference \n",
    "diff = [xp.var (name=\"diff_{0}\".format(g), lb=-50000) for g in Grids]\n",
    "\n",
    "# unmet demand:  'diff' if diff > 0; 0 if diff <= 0\n",
    "undemand = [xp.var (name=\"undemand_{0}\".format(g), lb=0) for g in Grids]\n",
    "\n",
    "#budget \n",
    "budget = xp.var('budget', lb=0)\n",
    "\n",
    "prob.addVariable(isupply, tsupply, diff , undemand , budget)"
   ]
  },
  {
   "cell_type": "code",
   "execution_count": 6,
   "id": "a03b230f",
   "metadata": {},
   "outputs": [],
   "source": [
    "## Adding Stations and points \n",
    "\n",
    "\n",
    "#total new points \n",
    "newpoint = [xp.var (name=\"newpoint_{0}\".format(g), vartype=xp.integer, lb=0) for g in Grids]\n",
    "#number of types of new points\n",
    "\n",
    "newpointty = {(g, c): xp.var(vartype=xp.integer, name='newpointty{0}_{1}'.format(g, c))\n",
    "              for g in Grids for c in Chargers}\n",
    "\n",
    "#stations = number of stations built at each charging point (max = 20)\n",
    "newstations = [xp.var (name=\"newstations_{0}\".format(g),vartype=xp.integer) for g in Grids]\n",
    "#variable for each type of station \n",
    "\n",
    "newstationsty = {(g, c): xp.var(vartype=xp.integer, name='newstationsty{0}_{1}'.format(g, c))\n",
    "                for g in Grids for c in Chargers}\n",
    "\n",
    "#new_supply from the newly built stations \n",
    "newpower = [xp.var (name=\"newpower_{0}\".format(g)) for g in Grids]\n",
    "\n",
    "#for each pre-existing charging station you can add upto X new stations \n",
    "addstations = [xp.var (name=\"addstations{0}\".format(g), vartype=xp.integer) for g in Grids]\n",
    "\n",
    "addstationsty = {(g, c): xp.var(vartype=xp.integer, name='addstationsty{0}_{1}'.format(g, c))\n",
    "                for g in Grids for c in Chargers}\n",
    "\n",
    "# additional supply for the additional stations: \n",
    "addpower = [xp.var (name=\"addpower{0}\".format(g)) for g in Grids]\n",
    "\n",
    "\n",
    "prob.addVariable(newpoint, newpointty,\n",
    "                 newstations, newstationsty,\n",
    "                 newpower, \n",
    "                 addstations, addstationsty,\n",
    "                 addpower)\n"
   ]
  },
  {
   "cell_type": "code",
   "execution_count": 7,
   "id": "d1d7986a",
   "metadata": {},
   "outputs": [],
   "source": [
    "#Problem Parameters\n",
    "charger_names = ['Slow', 'Fast', 'Rapid']\n",
    "chargerpower = [2750, 4600, 40250]\n",
    "\n",
    "chargerprice = [12500, 14000, 52000] ## for slow, fast, rapid chargers\n",
    "concost = 3000 ## infrastructure construction cost\n",
    "\n",
    "# demand matrix for each grid -- year 4 demand\n",
    "targetdemand = demand['Demand_3']\n",
    "targetdemand = targetdemand.to_numpy()\n",
    "\n",
    "#max stations per new point \n",
    "maxchargestation = 4\n",
    "#mas stations added to pre-existing point \n",
    "add_lim = 2\n",
    "\n",
    "\n",
    "#Currentchargers = chargepoints[['Type','grid_number']]\n",
    "# Current chargers availability:\n",
    "currentchargers = demand[['Number_of Slow_Charging_Points','Number_of_Fast_Charging_Points','Number_of Rapid_Charging_Points']]\n",
    "currentchargers = currentchargers.to_numpy() ## convert to array\n",
    "\n",
    "\n",
    "# Potential Charging points per grid g: \n",
    "ppoint_per_grid = demand['Number_of_Potential_Locations']\n",
    "ppoint_per_grid = ppoint_per_grid.to_numpy()\n",
    "\n",
    "#Number of pre-existing charging points per grid \n",
    "init_points_pgrid = demand['Number_of_Charging_Points']\n",
    "init_points_pgrid = init_points_pgrid.to_numpy()\n",
    "\n",
    "#Number of interest points per grid \n",
    "interest_points_grid = demand['Number_of_PoI']\n",
    "interest_points_grid = interest_points_grid.to_numpy()"
   ]
  },
  {
   "cell_type": "code",
   "execution_count": 8,
   "id": "9fd95f98",
   "metadata": {},
   "outputs": [],
   "source": [
    "## current expenditure\n",
    "cbudget = 0\n",
    "\n",
    "for g in Grids:\n",
    "    for c in Chargers:\n",
    "        #current expenditure = cost of building all chargers already in all grids \n",
    "        cbudget += chargerprice[c]*currentchargers[g,c]\n",
    "    #add the construction cost for each charger that exists\n",
    "    cbudget += number_of_chargers*concost\n",
    "    \n",
    "#print(cbudget) \n",
    "\n",
    "## current expenditure\n",
    "cbudget = 0\n",
    "\n",
    "for g in Grids:\n",
    "    for c in Chargers:\n",
    "        #current expenditure = cost of building all chargers already in all grids \n",
    "        cbudget += chargerprice[c]*currentchargers[g,c]\n",
    "    #add the construction cost for each charger that exists\n",
    "    cbudget += init_points_pgrid[g]*concost\n",
    "    \n",
    "#print(cbudget) "
   ]
  },
  {
   "cell_type": "code",
   "execution_count": 9,
   "id": "f80492f3",
   "metadata": {},
   "outputs": [],
   "source": [
    "## 'neighbours': matrix of neighbors and itself [343*9, 0 will be filled if num_of_share <9]\n",
    "## each grid and its neighbours can support charging\n",
    "neighbors = demand['NEIGHBORS']\n",
    "\n",
    "neighbours = np.zeros((number_of_grids,9))\n",
    "for g in Grids:\n",
    "    nums = neighbors.iloc[g]\n",
    "    num = re.findall(r'\\d+', nums)\n",
    "    num = list(map(int, num))\n",
    "    num = np.append(arr = np.array([g+1]), values = num, axis= 0) ## add itself to the start\n",
    "    #num.append(g+1) ## add itself\n",
    "    while len(num)<9: ## fill in zeroes for grids with less than 9 neighbors\n",
    "        #num.append(0)\n",
    "        num = np.append( arr = np.array([0]), values = num, axis=0)\n",
    "        \n",
    "    neighbours[g,]=num\n",
    "    \n",
    "neighbours = neighbours.astype(int) ## convert to an integer array"
   ]
  },
  {
   "cell_type": "code",
   "execution_count": 10,
   "id": "96edff67",
   "metadata": {},
   "outputs": [],
   "source": [
    "## Grid Power Sharing\n",
    "## Constraint 1: Filter the neighbours for each grid: Remove the neighbours with no demand \n",
    "\n",
    "for g in Grids:\n",
    "    for i in range(9):\n",
    "            ne = neighbours[g,i]\n",
    "            if ne >0:\n",
    "            ## remove those grids with no demand\n",
    "                if (targetdemand[ne-1]==0) : \n",
    "                    neighbours[ne-1,][neighbours[ne-1,]== (g+1)] = 0 \n",
    "                    neighbours[g,i] = 0 "
   ]
  },
  {
   "cell_type": "code",
   "execution_count": 11,
   "id": "56f4efe1",
   "metadata": {},
   "outputs": [],
   "source": [
    "## Number of grids that each grid will share its power to \n",
    "num_of_share = (neighbours != 0).sum(1)"
   ]
  },
  {
   "cell_type": "code",
   "execution_count": 12,
   "id": "a53069f5",
   "metadata": {},
   "outputs": [],
   "source": [
    "#current power supply from each grid \n",
    "cpower = np.zeros(number_of_grids)\n",
    "for g in Grids:\n",
    "    for c in Chargers:\n",
    "        cpower[g] = cpower[g] + chargerpower[c]*currentchargers[g,c]\n"
   ]
  },
  {
   "cell_type": "code",
   "execution_count": 13,
   "id": "d55be1fb",
   "metadata": {},
   "outputs": [],
   "source": [
    "## potential charging points\n",
    "\n",
    "#new points built per grid limited by the number of potential points per grid\n",
    "\n",
    "prob.addConstraint(newpoint[g] <= ppoint_per_grid[g] for g in Grids)\n",
    "\n",
    "prob.addConstraint(newpoint[g] == xp.Sum( newpointty[g,c] for c in Chargers) \n",
    "                   for g in Grids)\n",
    "\n",
    "#station type must match point type. number of stations per point is limited\n",
    "prob.addConstraint(newstationsty[g,c] <= maxchargestation*newpointty[g,c]\n",
    "                   for c in Chargers for g in Grids)\n",
    "\n",
    "#!! add a lower bound for the number of stations for each built new point\n",
    "prob.addConstraint(newpointty[g,c] <= newstationsty[g,c]\n",
    "                   for c in Chargers for g in Grids)\n",
    "\n",
    "\n",
    "#Power from the new charging points, calculated as the sum of power from each station\n",
    "prob.addConstraint(newpower[g] == xp.Sum( newstationsty[g,c]*chargerpower[c] for c in Chargers)\n",
    "                   for g in Grids)\n"
   ]
  },
  {
   "cell_type": "code",
   "execution_count": 14,
   "id": "70fccb27",
   "metadata": {},
   "outputs": [],
   "source": [
    "## additional charging stations \n",
    "     \n",
    "\n",
    "prob.addConstraint(addstationsty[g,c] <= add_lim*currentchargers[g,c]\n",
    "                   for g in Grids for c in Chargers)\n",
    "    \n",
    "prob.addConstraint(newstations[g] == xp.Sum( newstationsty[g,c] for c in Chargers )\n",
    "                   for g in Grids) \n",
    "        \n",
    "        \n",
    "#total additional stations is the sum of all the additional stations \n",
    "prob.addConstraint(addstations[g] == xp.Sum( addstationsty[g,c] for c in Chargers )\n",
    "                   for g in Grids) \n",
    "\n",
    "#additional power = sum power from each additional station \n",
    "prob.addConstraint(addpower[g] == xp.Sum( addstationsty[g,c]*chargerpower[c] for c in Chargers )\n",
    "                   for g in Grids) \n",
    "\n",
    "\n",
    "#ASSUMPTION : pre-existing charging point only has one station "
   ]
  },
  {
   "cell_type": "code",
   "execution_count": 15,
   "id": "a5ebdd8c",
   "metadata": {},
   "outputs": [],
   "source": [
    "## interest points\n",
    "\n",
    "prob.addConstraint(xp.Sum(init_points_pgrid[ne-1]+addstations[ne-1]+newstations[ne-1] for ne in neighbours[g,] if (ne >0) and (num_of_share[ne-1]>0) ) >= interest_points_grid[g]\n",
    "                   for g in Grids if num_of_share[g] >0)\n",
    "\n"
   ]
  },
  {
   "cell_type": "code",
   "execution_count": 16,
   "id": "ca451df2",
   "metadata": {},
   "outputs": [],
   "source": [
    "#individual supply from each grid : \n",
    "# cpower = current power (from pre-existing stations)\n",
    "# newpower = power from new stations \n",
    "# addpower = power from added stations \n",
    "prob.addConstraint( isupply[g] == cpower[g] + newpower[g] + addpower[g]\n",
    "                   for g in Grids)\n",
    "\n",
    "# the supply recieved by grid g by all its neighbours \n",
    "prob.addConstraint( tsupply[g] == xp.Sum(isupply[ne-1]/num_of_share[ne-1] \n",
    "                                         for ne in neighbours[g,] if (ne >0) and (num_of_share[ne-1]>0))\n",
    "                    for g in Grids)\n"
   ]
  },
  {
   "cell_type": "code",
   "execution_count": 17,
   "id": "95d15a66",
   "metadata": {},
   "outputs": [],
   "source": [
    "## City Centre: G215 + neighbouring grids\n",
    "## sensitivity analysis: change the bound, \n",
    "\n",
    "## Special requirement: 1. The number of charging stations must not exceed some bound\n",
    "## 2. The total number of charging stations must not exceed ... (after Fatima's model)\n",
    "\n",
    "citycentre = [184,185,186,198,199,200,201,213,214,215,229]\n",
    "\n",
    "prob.addConstraint(xp.Sum(init_points_pgrid[cg-1]+addstations[cg-1]+newstations[cg-1] for cg in citycentre) <= 30)\n",
    "\n",
    "csb = 30"
   ]
  },
  {
   "cell_type": "code",
   "execution_count": 18,
   "id": "0f106062",
   "metadata": {},
   "outputs": [],
   "source": [
    "# Deficit = difference between the demand and supply of grid g \n",
    "prob.addConstraint( diff[g] == targetdemand[g] - tsupply[g] for g in Grids)\n",
    "\n"
   ]
  },
  {
   "cell_type": "code",
   "execution_count": 19,
   "id": "2ea5dd76",
   "metadata": {},
   "outputs": [],
   "source": [
    "## Diversification\n",
    "## Proportion of rapid chargers must not exceed 20%\n",
    "## xp.Sum(currentchargers[g,2] for g in Grids) = 13\n",
    "\n",
    "prob.addConstraint( xp.Sum(currentchargers[j,2] + newstationsty[j,2] + addstationsty[j,2] for j in Grids) <= \n",
    "                    0.2*(number_of_chargers+ xp.Sum( newstationsty[g,c] + addstationsty[g,c] \n",
    "                                                    for c in Chargers for g in Grids )))\n",
    "\n"
   ]
  },
  {
   "cell_type": "code",
   "execution_count": 20,
   "id": "da5f422a",
   "metadata": {},
   "outputs": [],
   "source": [
    "## expenditure !!!\n",
    "prob.addConstraint( budget == xp.Sum( chargerprice[c]*(newstationsty[g,c]+addstationsty[g,c]) for g in Grids for c in Chargers)\n",
    "                   + concost*(xp.Sum(newpoint[g] for g in Grids)) )\n",
    "\n",
    "## The limita\n",
    "prob.addConstraint( budget <= 10 * cbudget)"
   ]
  },
  {
   "cell_type": "code",
   "execution_count": 21,
   "id": "d6ad269e",
   "metadata": {},
   "outputs": [],
   "source": [
    "## unmet demand \n",
    "prob.addConstraint( diff[g] <= undemand[g] for g in Grids)\n",
    "\n",
    "TD = sum(demand['Demand_3'])\n",
    "\n",
    "prob.addConstraint( xp.Sum(undemand[g] for g in Grids) <= 0)"
   ]
  },
  {
   "cell_type": "code",
   "execution_count": 22,
   "id": "14f992c6",
   "metadata": {},
   "outputs": [],
   "source": [
    "#minimize the unmet demand \n",
    "\n",
    "#prob.setObjective( xp.Sum( undemand[g] for g in Grids ), sense = xp.minimize)\n",
    "\n",
    "prob.setObjective(budget, sense = xp.minimize)\n"
   ]
  },
  {
   "cell_type": "code",
   "execution_count": 23,
   "id": "737bdae8",
   "metadata": {
    "scrolled": true
   },
   "outputs": [
    {
     "name": "stdout",
     "output_type": "stream",
     "text": [
      "FICO Xpress v8.13.7, Hyper, solve started 0:00:51, Nov 28, 2022\n",
      "Heap usage: 4692KB (peak 4692KB, 2721KB system)\n",
      "Minimizing MILP pro using up to 4 threads, with these control settings:\n",
      "OUTPUTLOG = 1\n",
      "Original problem has:\n",
      "      8354 rows         7813 cols        26993 elements      5208 globals\n",
      "Presolved problem has:\n",
      "       798 rows          728 cols         3493 elements       632 globals\n",
      "LP relaxation tightened\n",
      "Presolve finished in 0 seconds\n",
      "Heap usage: 5748KB (peak 11MB, 2721KB system)\n",
      "\n",
      "Coefficient range                    original                 solved        \n",
      "  Coefficients   [min,max] : [ 1.11e-01,  5.20e+04] / [ 2.04e-02,  1.36e+01]\n",
      "  RHS and bounds [min,max] : [ 1.00e+00,  1.75e+07] / [ 3.26e-02,  2.76e+03]\n",
      "  Objective      [min,max] : [ 1.00e+00,  1.00e+00] / [ 8.19e+03,  8.19e+03]\n",
      "Autoscaling applied Curtis-Reid scaling\n",
      "\n",
      "Symmetric problem: generators: 2, support set: 18\n",
      " Number of orbits: 6, largest orbit: 3\n",
      " Row orbits: 6, row support: 18\n",
      "Will try to keep branch and bound tree memory usage below 1.0GB\n",
      "Starting concurrent solve with dual (1 thread)\n",
      "\n",
      " Concurrent-Solve,   0s\n",
      "            Dual        \n",
      "    objective   sum inf \n",
      " P  2363517.8   .0000000\n",
      "------- optimal --------\n",
      "Concurrent statistics:\n",
      "      Dual: 292 simplex iterations, 0.02s\n",
      "Optimal solution found\n",
      " \n",
      "   Its         Obj Value      S   Ninf  Nneg        Sum Inf  Time\n",
      "   292       2363517.843      P      0     0        .000000     0\n",
      "Dual solved problem\n",
      "  292 simplex iterations in 0.02 seconds at time 0\n",
      "\n",
      "Final objective                       : 2.363517842928906e+06\n",
      "  Max primal violation      (abs/rel) :       0.0 /       0.0\n",
      "  Max dual violation        (abs/rel) : 9.095e-13 / 9.095e-13\n",
      "  Max complementarity viol. (abs/rel) :       0.0 /       0.0\n",
      "\n",
      "Starting root cutting & heuristics\n",
      " \n",
      " Its Type    BestSoln    BestBound   Sols    Add    Del     Gap     GInf   Time\n",
      "R         2710000.000  2431868.859      1                 10.26%       0      0\n",
      "R         2694000.000  2431868.859      2                  9.73%       0      0\n",
      "R         2693500.000  2431868.859      3                  9.71%       0      0\n",
      "R         2678000.000  2431868.859      4                  9.19%       0      0\n",
      "R         2675000.000  2431868.859      5                  9.09%       0      0\n",
      "R         2669000.000  2431868.859      6                  8.88%       0      0\n",
      "R         2613000.000  2431868.859      7                  6.93%       0      0\n",
      "R         2597500.000  2431868.859      8                  6.38%       0      0\n",
      "   1  K   2597500.000  2431868.859      8    186      0    6.38%      93      0\n",
      "   2  K   2597500.000  2458678.502      8    178    141    5.34%      95      0\n",
      "   3  K   2597500.000  2464272.272      8    117    166    5.13%      85      0\n",
      "   4  K   2597500.000  2469906.949      8    110    107    4.91%     101      0\n",
      "   5  K   2597500.000  2473621.852      8    135    105    4.77%      93      1\n",
      "   6  K   2597500.000  2475092.476      8    153    134    4.71%      89      1\n",
      "   7  K   2597500.000  2476112.085      8    191    141    4.67%     103      1\n",
      "   8  K   2597500.000  2477105.628      8    113    182    4.64%     106      1\n",
      "   9  K   2597500.000  2477600.440      8     97    115    4.62%     112      1\n",
      "R         2596000.000  2478269.888      9                  4.54%       0      1\n",
      "R         2588500.000  2478269.888     10                  4.26%       0      1\n",
      "R         2555500.000  2478269.888     11                  3.02%       0      1\n",
      "R         2546000.000  2478269.888     12                  2.66%       0      1\n",
      "R         2532000.000  2478269.888     13                  2.12%       0      1\n",
      "R         2529000.000  2478269.888     14                  2.01%       0      1\n",
      "R         2526000.000  2478269.888     15                  1.89%       0      1\n",
      "R         2521500.000  2478269.888     16                  1.71%       0      1\n",
      "  10  K   2521500.000  2478269.888     16    105     94    1.71%     132      1\n",
      "  11  K   2521500.000  2478286.037     16     70    104    1.71%     115      1\n",
      "  12  K   2521500.000  2478356.574     16     72     63    1.71%     112      1\n",
      "  13  K   2521500.000  2478387.443     16     41     71    1.71%      97      1\n",
      "  14  K   2521500.000  2478420.708     16     33     39    1.71%      99      1\n",
      "  15  K   2521500.000  2478512.175     16     72     36    1.70%     106      1\n",
      "  16  K   2521500.000  2478522.706     16     23     67    1.70%     114      1\n",
      "  17  K   2521500.000  2478957.969     16     36     24    1.69%     103      1\n",
      "  18  K   2521500.000  2479890.939     16     19     37    1.65%     106      1\n",
      "  19  K   2521500.000  2479934.185     16     44     19    1.65%     104      2\n",
      "  20  K   2521500.000  2479966.586     16     73    110    1.65%     103      2\n",
      "Heuristic search 'R' started\n",
      "Heuristic search 'R' stopped\n",
      "M         2520000.000  2479966.586     17                  1.59%       0      2\n",
      "M         2518500.000  2479966.586     18                  1.53%       0      2\n",
      "M         2517000.000  2479966.586     19                  1.47%       0      2\n",
      " \n",
      "Cuts in the matrix         : 113\n",
      "Cut elements in the matrix : 2444\n",
      "\n",
      "Performing root presolve...\n",
      "\n",
      "Reduced problem has:     699 rows     529 columns      4145 elements\n",
      "Presolve dropped   :     212 rows     199 columns      1792 elements\n",
      "Presolve tightened :        55 elements\n",
      "Symmetric problem: generators: 3, support set: 20\n",
      " Number of orbits: 8, largest orbit: 3\n",
      " Row orbits: 8, row support: 20\n",
      "Will try to keep branch and bound tree memory usage below 1.0GB\n",
      "Crash basis containing 224 structural columns created\n",
      " \n",
      "   Its         Obj Value      S   Ninf  Nneg        Sum Inf  Time\n",
      "  4471       2479966.578      P      0     0        .000000     2\n",
      "Optimal solution found\n",
      "Dual solved problem\n",
      "  4471 simplex iterations in 0.00 seconds at time 2\n",
      "\n",
      "Final objective                       : 2.479966577980556e+06\n",
      "  Max primal violation      (abs/rel) : 3.816e-17 / 3.816e-17\n",
      "  Max dual violation        (abs/rel) :       0.0 /       0.0\n",
      "  Max complementarity viol. (abs/rel) :       0.0 /       0.0\n",
      "\n",
      "Starting root cutting & heuristics\n",
      " \n",
      " Its Type    BestSoln    BestBound   Sols    Add    Del     Gap     GInf   Time\n",
      "   1  K   2517000.000  2481477.389     19     52     24    1.41%     106      2\n",
      "   2  K   2517000.000  2482351.105     19     38    108    1.38%      97      2\n",
      "Heuristic search 'R' started\n",
      "Heuristic search 'R' stopped\n",
      " \n",
      "Cuts in the matrix         : 71\n",
      "Cut elements in the matrix : 2164\n",
      "\n",
      "Starting tree search.\n",
      "Deterministic mode with up to 4 running threads and up to 8 tasks.\n",
      "Heap usage: 9935KB (peak 16MB, 2855KB system)\n",
      " \n",
      "    Node     BestSoln    BestBound   Sols Active  Depth     Gap     GInf   Time\n",
      "       1  2517000.000  2482730.378     19      2      1    1.36%      97      3\n",
      "       2  2517000.000  2482730.378     19      2      3    1.36%      91      3\n",
      "       3  2517000.000  2482730.378     19      3      3    1.36%      91      3\n",
      "       4  2517000.000  2483131.371     19      4      4    1.35%      93      3\n",
      "       5  2517000.000  2483131.371     19      5      4    1.35%      90      3\n",
      "       6  2517000.000  2483131.371     19      4      4    1.35%      89      3\n",
      "       7  2517000.000  2483167.392     19      5      4    1.34%      90      3\n",
      "       8  2517000.000  2483167.392     19      6      4    1.34%      94      3\n",
      "       9  2517000.000  2483167.392     19      5      5    1.34%      72      3\n",
      "      10  2517000.000  2483167.392     19      6      5    1.34%      82      3\n",
      "      21  2517000.000  2483464.021     19     12      9    1.33%      86      3\n",
      "      32  2517000.000  2484496.716     19     13      8    1.29%      71      3\n",
      "      43  2517000.000  2484496.716     19     11     17    1.29%      73      3\n",
      "Will try to keep branch and bound tree memory usage below 0.9GB\n",
      "      59  2517000.000  2484546.584     19     19     17    1.29%      67      3\n",
      "      70  2517000.000  2484546.584     19     32     11    1.29%      53      3\n",
      "      83  2517000.000  2484546.584     19     39     15    1.29%      72      3\n",
      "      98  2517000.000  2484924.067     19     45     22    1.27%      37      3\n",
      "     108  2517000.000  2484924.067     19     62     23    1.27%      62      3\n",
      "     211  2517000.000  2484924.067     19    140     51    1.27%      33      3\n"
     ]
    },
    {
     "name": "stdout",
     "output_type": "stream",
     "text": [
      "Elapsed time (sec): 3, estimated tree completion: 0.41461\n",
      "Heap usage: 50MB (peak 50MB, 3356KB system)\n",
      "B&B tree size: 1.0MB total\n",
      " \n",
      "    Node     BestSoln    BestBound   Sols Active  Depth     Gap     GInf   Time\n",
      "     324  2517000.000  2484924.067     19    219     64    1.27%      26      3\n",
      "     424  2517000.000  2484924.067     19    283     46    1.27%      45      3\n",
      "     527  2517000.000  2485062.122     19    406     46    1.27%      40      3\n",
      "     645  2517000.000  2485137.326     19    470     67    1.27%       6      3\n",
      "b    686  2514000.000  2485137.326     20    514     73    1.15%       0      3\n",
      "     766  2514000.000  2485137.326     20    499     55    1.15%      36      3\n",
      "     874  2514000.000  2485156.193     20    573     46    1.15%      40      3\n",
      "     984  2514000.000  2485156.193     20    651     36    1.15%      60      4\n",
      "    1093  2514000.000  2485156.193     20    697     42    1.15%      36      4\n",
      "    1227  2514000.000  2485210.729     20    767     54    1.15%      48      4\n",
      "    1349  2514000.000  2485210.729     20    873     35    1.15%      44      4\n",
      "    1485  2514000.000  2485257.554     20    945     58    1.14%      18      4\n",
      "    1604  2514000.000  2485257.554     20    994     53    1.14%       8      4\n",
      "*   1642  2513500.000  2485257.554     21   1040     64    1.12%       0      4\n",
      "    1712  2513500.000  2485257.554     21   1068     49    1.12%      40      4\n",
      "    1816  2513500.000  2485260.176     21   1161     42    1.12%      43      4\n",
      "    1916  2513500.000  2485260.176     21   1232     37    1.12%      44      4\n",
      "    2030  2513500.000  2485260.176     21   1290     51    1.12%      32      4\n",
      "    2130  2513500.000  2485260.176     21   1334     52    1.12%      37      4\n",
      "    2242  2513500.000  2486095.187     21   1415     50    1.09%      29      4\n",
      "Elapsed time (sec): 4, estimated tree completion: 0.49017\n",
      "Heap usage: 55MB (peak 55MB, 3356KB system)\n",
      "B&B tree size: 4.7MB total\n",
      " \n",
      "    Node     BestSoln    BestBound   Sols Active  Depth     Gap     GInf   Time\n",
      "    2343  2513500.000  2486095.187     21   1474     23    1.09%      62      4\n",
      "    2449  2513500.000  2486095.187     21   1545     30    1.09%      61      4\n",
      "    2551  2513500.000  2486394.022     21   1577     40    1.08%      49      4\n",
      "    2671  2513500.000  2486394.022     21   1628     57    1.08%      36      4\n",
      "    2774  2513500.000  2486394.022     21   1750     15    1.08%      71      4\n",
      "    2884  2513500.000  2486657.311     21   1787     32    1.07%      46      4\n",
      "    2996  2513500.000  2486657.311     21   1837     59    1.07%      40      5\n",
      "    3110  2513500.000  2486657.311     21   1918     30    1.07%      60      5\n",
      "    3216  2513500.000  2486699.139     21   1982     35    1.07%      58      5\n",
      "    3332  2513500.000  2486699.139     21   2020     61    1.07%      24      5\n",
      "    3447  2513500.000  2486699.139     21   2112     38    1.07%      28      5\n",
      "    3549  2513500.000  2486848.990     21   2165     39    1.06%      24      5\n",
      "    3669  2513500.000  2486848.990     21   2224     37    1.06%      35      5\n",
      "    3777  2513500.000  2487464.807     21   2273     44    1.04%      35      5\n",
      "    3893  2513500.000  2487464.807     21   2389     31    1.04%      37      5\n",
      "    4018  2513500.000  2487466.507     21   2427     54    1.04%      40      5\n",
      "    4118  2513500.000  2487466.507     21   2489     40    1.04%      52      5\n",
      "    4246  2513500.000  2487578.009     21   2553     63    1.03%      21      5\n",
      "    4352  2513500.000  2487578.009     21   2609     60    1.03%      37      5\n",
      "    4472  2513500.000  2487691.687     21   2683     57    1.03%      26      5\n",
      "Elapsed time (sec): 5, estimated tree completion: 0.49094\n",
      "Heap usage: 60MB (peak 60MB, 3356KB system)\n",
      "B&B tree size: 9.1MB total\n",
      " \n",
      "    Node     BestSoln    BestBound   Sols Active  Depth     Gap     GInf   Time\n",
      "    4587  2513500.000  2487691.687     21   2732     37    1.03%      20      5\n",
      "    4707  2513500.000  2487897.455     21   2823     36    1.02%      43      5\n",
      "    4820  2513500.000  2487897.455     21   2889     40    1.02%      28      5\n",
      "    4943  2513500.000  2487897.455     21   2952     43    1.02%      40      5\n",
      "Resetting tree to root.\n",
      "\n",
      "Performing root presolve...\n",
      "\n",
      "Reduced problem has:     650 rows     525 columns      4385 elements\n",
      "Presolve dropped   :       7 rows       4 columns       224 elements\n",
      "Presolve tightened :        28 elements\n",
      "Symmetric problem: generators: 3, support set: 20\n",
      " Number of orbits: 8, largest orbit: 3\n",
      " Row orbits: 8, row support: 20\n",
      "Will try to keep branch and bound tree memory usage below 1.0GB\n",
      "Crash basis containing 221 structural columns created\n",
      " \n",
      "   Its         Obj Value      S   Ninf  Nneg   Sum Dual Inf  Time\n",
      " 74104       2485257.546      D     64     0        .000000     5\n",
      " 74276       2485257.546      P      0     0        .000000     5\n",
      "Optimal solution found\n",
      "Dual solved problem\n",
      "  74276 simplex iterations in 0.00 seconds at time 5\n",
      "\n",
      "Final objective                       : 2.485257545987102e+06\n",
      "  Max primal violation      (abs/rel) :       0.0 /       0.0\n",
      "  Max dual violation        (abs/rel) :       0.0 /       0.0\n",
      "  Max complementarity viol. (abs/rel) :       0.0 /       0.0\n",
      "\n",
      "Starting root cutting & heuristics\n",
      " \n",
      " Its Type    BestSoln    BestBound   Sols    Add    Del     Gap     GInf   Time\n",
      "   1  K   2513500.000  2487972.638     21     36     22    1.02%      37      6\n",
      "   2  K   2513500.000  2487972.638     21     48     37    1.02%      44      6\n",
      "   3  K   2513500.000  2487972.638     21     77     39    1.02%      36      6\n",
      "   4  K   2513500.000  2487972.638     21     49     66    1.02%      48      6\n",
      "   5  K   2513500.000  2487972.638     21     24     50    1.02%      42      6\n",
      "   6  K   2513500.000  2487972.638     21     21     21    1.02%      45      6\n",
      "   7  K   2513500.000  2487972.638     21     21     25    1.02%      47      6\n",
      "   8  K   2513500.000  2487972.638     21     25     14    1.02%      48      6\n",
      "   9  K   2513500.000  2487972.638     21     15     28    1.02%      42      6\n",
      "  10  K   2513500.000  2487972.638     21     24     20    1.02%      45      6\n",
      "  11  K   2513500.000  2487972.638     21      9     28    1.02%      45      6\n",
      "  12  K   2513500.000  2487972.638     21      6      4    1.02%      40      6\n",
      "  13  K   2513500.000  2487972.638     21     14      2    1.02%      42      6\n",
      "  14  K   2513500.000  2487972.638     21      0      6    1.02%      40      6\n",
      "  15  G   2513500.000  2487972.638     21     14     31    1.02%      40      6\n",
      "  16  G   2513500.000  2487972.638     21     68     87    1.02%      43      6\n",
      "Heuristic search 'R' started\n",
      "Heuristic search 'R' stopped\n",
      " \n",
      "Cuts in the matrix         : 42\n",
      "Cut elements in the matrix : 951\n",
      "\n",
      "Starting tree search.\n",
      "Deterministic mode with up to 4 running threads and up to 8 tasks.\n",
      "Heap usage: 10004KB (peak 60MB, 2859KB system)\n",
      "Elapsed time (sec): 7, estimated tree completion: 0.00000\n",
      "Heap usage: 10004KB (peak 60MB, 2859KB system)\n",
      "B&B tree size: 89k total\n",
      " \n",
      "    Node     BestSoln    BestBound   Sols Active  Depth     Gap     GInf   Time\n",
      "    5027  2513500.000  2487972.638     21      2      1    1.02%      60      7\n",
      "    5029  2513500.000  2487972.638     21      2      3    1.02%      50      7\n",
      "    5031  2513500.000  2487972.638     21      2      5    1.02%      72      7\n",
      "    5032  2513500.000  2487972.638     21      3      3    1.02%      73      7\n",
      "    5033  2513500.000  2487972.638     21      3      6    1.02%      70      7\n",
      "    5034  2513500.000  2487972.638     21      4      4    1.02%      72      7\n",
      "    5036  2513500.000  2487972.638     21      5      4    1.02%      75      7\n",
      "    5047  2513500.000  2487972.638     21     10      7    1.02%      55      7\n",
      "    5057  2513500.000  2487972.638     21     17      7    1.02%      67      7\n",
      "    5069  2513500.000  2487972.638     21     26      7    1.02%      74      7\n",
      "    5079  2513500.000  2487972.638     21     32     10    1.02%      72      7\n",
      "    5089  2513500.000  2487972.638     21     40     20    1.02%      71      7\n",
      "    5099  2513500.000  2487972.638     21     50     14    1.02%      72      7\n",
      "    5109  2513500.000  2487972.638     21     60     16    1.02%      63      7\n",
      "    5119  2513500.000  2487972.638     21     70     30    1.02%      55      7\n"
     ]
    },
    {
     "name": "stdout",
     "output_type": "stream",
     "text": [
      "    5129  2513500.000  2487972.638     21     80     15    1.02%      55      7\n",
      "    5230  2513500.000  2487972.638     21    153     20    1.02%      58      7\n",
      "    5334  2513500.000  2487972.638     21    234     20    1.02%      63      7\n",
      "    5434  2513500.000  2487972.638     21    318     51    1.02%      35      8\n",
      "Elapsed time (sec): 8, estimated tree completion: 0.24747\n",
      "Heap usage: 48MB (peak 60MB, 3357KB system)\n",
      "B&B tree size: 1.1MB total\n",
      " \n",
      "    Node     BestSoln    BestBound   Sols Active  Depth     Gap     GInf   Time\n",
      "    5536  2513500.000  2487972.638     21    381     37    1.02%      41      8\n",
      "    5636  2513500.000  2487972.638     21    439     31    1.02%      56      8\n",
      "    5752  2513500.000  2487972.638     21    489     52    1.02%      18      8\n",
      "    5854  2513500.000  2487972.638     21    561     30    1.02%      49      8\n",
      "    5956  2513500.000  2487972.638     21    621     24    1.02%      59      8\n",
      "    6061  2513500.000  2487972.638     21    677     31    1.02%      43      8\n",
      "    6162  2513500.000  2487972.638     21    725     46    1.02%      51      8\n",
      "    6262  2513500.000  2487972.638     21    772     56    1.02%      13      8\n",
      "    6366  2513500.000  2487972.638     21    799     35    1.02%      24      9\n",
      "    6467  2513500.000  2487972.638     21    897     37    1.02%      34      9\n",
      "    6575  2513500.000  2487972.638     21    961     50    1.02%      25      9\n",
      "    6680  2513500.000  2487972.638     21   1045     44    1.02%      24      9\n",
      "    6794  2513500.000  2487972.638     21   1128     40    1.02%      39      9\n",
      "    6896  2513500.000  2487972.638     21   1189     53    1.02%      33      9\n",
      "    7009  2513500.000  2487972.638     21   1230     52    1.02%      26      9\n",
      "    7109  2513500.000  2487972.638     21   1298     20    1.02%      67      9\n",
      "    7214  2513500.000  2487972.638     21   1384     36    1.02%      56      9\n",
      "    7332  2513500.000  2487972.638     21   1470     32    1.02%      33      9\n",
      "    7443  2513500.000  2487972.638     21   1512     44    1.02%      32      9\n",
      "    7564  2513500.000  2487972.638     21   1567     32    1.02%      57      9\n",
      "Elapsed time (sec): 10, estimated tree completion: 0.33304\n",
      "Heap usage: 54MB (peak 60MB, 3357KB system)\n",
      "B&B tree size: 5.4MB total\n",
      " \n",
      "    Node     BestSoln    BestBound   Sols Active  Depth     Gap     GInf   Time\n",
      "    7685  2513500.000  2487972.638     21   1654     46    1.02%      47     10\n",
      "    7790  2513500.000  2487972.638     21   1701     62    1.02%      34     10\n",
      "    7896  2513500.000  2487972.638     21   1714     65    1.02%      29     10\n",
      "    7998  2513500.000  2487972.638     21   1793     29    1.02%      48     10\n",
      "    8115  2513500.000  2487972.638     21   1886     32    1.02%      33     10\n",
      "    8233  2513500.000  2487972.638     21   1967     50    1.02%      58     10\n",
      "    8358  2513500.000  2487972.638     21   2075     53    1.02%      52     10\n",
      "    8478  2513500.000  2487972.638     21   2150     43    1.02%      47     10\n",
      "    8603  2513500.000  2487972.638     21   2204     63    1.02%      33     10\n",
      "    8727  2513500.000  2487972.638     21   2279     67    1.02%      13     10\n",
      "    8838  2513500.000  2487972.638     21   2306     40    1.02%      35     10\n",
      "    8953  2513500.000  2487972.638     21   2421     36    1.02%      59     10\n",
      "    9055  2513500.000  2487972.638     21   2479     56    1.02%      28     10\n",
      "    9164  2513500.000  2487972.638     21   2516     40    1.02%      38     10\n",
      "    9273  2513500.000  2487972.638     21   2583     40    1.02%      26     10\n",
      "    9377  2513500.000  2487972.638     21   2646     32    1.02%      58     11\n",
      "    9486  2513500.000  2487972.638     21   2739     40    1.02%      37     11\n",
      "    9605  2513500.000  2487972.638     21   2750     49    1.02%      34     11\n",
      "    9711  2513500.000  2487972.638     21   2851     31    1.02%      64     11\n",
      "    9822  2513500.000  2487972.638     21   2945     40    1.02%      39     11\n",
      "Elapsed time (sec): 11, estimated tree completion: 0.38065\n",
      "Heap usage: 58MB (peak 60MB, 3360KB system)\n",
      "B&B tree size: 10MB total\n",
      " \n",
      "    Node     BestSoln    BestBound   Sols Active  Depth     Gap     GInf   Time\n",
      "    9931  2513500.000  2487972.638     21   3011     47    1.02%      41     11\n",
      "   10050  2513500.000  2487972.638     21   3067     49    1.02%       8     11\n",
      "   10156  2513500.000  2487972.638     21   3099     51    1.02%      12     11\n",
      "   10262  2513500.000  2487972.638     21   3184     32    1.02%      64     11\n",
      "   10390  2513500.000  2487972.638     21   3247     50    1.02%      13     11\n",
      "   10508  2513500.000  2487972.638     21   3309     30    1.02%      59     11\n",
      "   10611  2513500.000  2487972.638     21   3373     32    1.02%      40     11\n",
      "   10735  2513500.000  2487972.638     21   3439     43    1.02%      46     11\n",
      "   10842  2513500.000  2487972.638     21   3533     41    1.02%      28     11\n",
      "   10965  2513500.000  2488380.716     21   3583     50    1.00%      25     11\n",
      "   11084  2513500.000  2488397.929     21   3669     57    1.00%      17     11\n",
      "   11185  2513500.000  2488397.929     21   3715     24    1.00%      75     11\n",
      "   11292  2513500.000  2488403.436     21   3764     31    1.00%      52     12\n",
      "   11394  2513500.000  2488480.872     21   3837     39    1.00%      41     12\n",
      "   11510  2513500.000  2488911.842     21   3918     31    0.98%      62     12\n",
      "   11612  2513500.000  2488911.842     21   3979     52    0.98%      24     12\n",
      "g  11698  2512500.000  2489157.507     22   4027     67    0.93%       0     12\n",
      "   11729  2512500.000  2489157.507     22   4027     63    0.93%      14     12\n",
      "g  11729  2504500.000  2489157.507     23   4027     63    0.61%       0     12\n",
      "   13561  2504500.000  2489157.507     23   2234      1    0.61%       1     12\n",
      "Elapsed time (sec): 12, estimated tree completion: 0.40119\n",
      "Heap usage: 57MB (peak 60MB, 3360KB system)\n",
      "B&B tree size: 8.5MB total\n",
      " \n",
      "    Node     BestSoln    BestBound   Sols Active  Depth     Gap     GInf   Time\n",
      "   13663  2504500.000  2489157.507     23   2262     62    0.61%      29     12\n",
      "   13786  2504500.000  2489503.124     23   2280     33    0.60%      50     12\n",
      "   13886  2504500.000  2489503.124     23   2314     57    0.60%      13     12\n",
      "   13987  2504500.000  2489503.124     23   2365      1    0.60%       1     12\n",
      "   14106  2504500.000  2489533.700     23   2400     37    0.60%      47     12\n",
      "   14206  2504500.000  2489533.700     23   2444     33    0.60%      52     12\n",
      "   14312  2504500.000  2489533.700     23   2488     41    0.60%      48     12\n",
      "   14434  2504500.000  2489533.700     23   2503     35    0.60%      58     12\n",
      "   14535  2504500.000  2489637.786     23   2551     36    0.59%      45     12\n",
      "   14648  2504500.000  2489637.786     23   2593     37    0.59%      57     12\n",
      "   14760  2504500.000  2489637.786     23   2641     30    0.59%      41     12\n",
      "   14877  2504500.000  2489791.726     23   2706     29    0.59%      31     12\n",
      "   14996  2504500.000  2489791.726     23   2756     36    0.59%      30     12\n",
      "   15103  2504500.000  2489852.090     23   2787     34    0.58%      38     12\n",
      "   16122  2504500.000  2490681.056     23   3245     37    0.55%      42     13\n",
      "   17122  2504500.000  2491188.242     23   3632     32    0.53%      44     13\n",
      "   18137  2504500.000  2492142.013     23   4043     36    0.49%      46     14\n",
      "   19152  2504500.000  2492349.837     23   4446     30    0.49%      53     14\n",
      "g  19341  2501500.000  2492395.165     24   4545     51    0.36%       0     14\n",
      "   20592  2501500.000  2492395.165     24   3309      1    0.36%       1     14\n",
      "Elapsed time (sec): 15, estimated tree completion: 0.47497\n",
      "Heap usage: 62MB (peak 62MB, 3360KB system)\n",
      "B&B tree size: 14MB total\n",
      " \n",
      "    Node     BestSoln    BestBound   Sols Active  Depth     Gap     GInf   Time\n",
      "   21601  2501500.000  2492584.384     24   3515     33    0.36%      38     15\n",
      "   22604  2501500.000  2492920.295     24   3715     23    0.34%      44     15\n",
      "   23605  2501500.000  2493058.282     24   3945     27    0.34%      63     15\n",
      "   24617  2501500.000  2493435.021     24   4139     39    0.32%      49     16\n",
      "   25633  2501500.000  2493603.495     24   4327     32    0.32%      48     16\n",
      "   26635  2501500.000  2493923.882     24   4465     34    0.30%      51     17\n"
     ]
    },
    {
     "name": "stdout",
     "output_type": "stream",
     "text": [
      "   27657  2501500.000  2494037.232     24   4559     30    0.30%      45     17\n",
      "   28662  2501500.000  2494334.330     24   4736     25    0.29%      62     17\n",
      "   29664  2501500.000  2494492.388     24   4878     34    0.28%      44     18\n",
      "   30664  2501500.000  2494536.144     24   5041     32    0.28%      53     18\n",
      "   31668  2501500.000  2494849.655     24   5153     36    0.27%      39     19\n",
      "   32687  2501500.000  2494964.338     24   5251     32    0.26%      54     19\n",
      "   33704  2501500.000  2495101.261     24   5284     28    0.26%      41     19\n",
      "   34704  2501500.000  2495248.524     24   5356     28    0.25%      35     20\n",
      "   35712  2501500.000  2495345.486     24   5482     29    0.25%      34     20\n",
      "   36718  2501500.000  2495493.814     24   5504     39    0.24%      33     21\n",
      "   37719  2501500.000  2495571.709     24   5578     29    0.24%      49     21\n",
      "   38743  2501500.000  2495710.370     24   5637     32    0.23%      38     21\n",
      "   39756  2501500.000  2495848.522     24   5651     32    0.23%      43     22\n",
      "   40779  2501500.000  2496019.164     24   5663     29    0.22%      51     22\n",
      "Elapsed time (sec): 22, estimated tree completion: 0.66750\n",
      "Heap usage: 78MB (peak 78MB, 3360KB system)\n",
      "B&B tree size: 28MB total\n",
      " \n",
      "    Node     BestSoln    BestBound   Sols Active  Depth     Gap     GInf   Time\n",
      "   41806  2501500.000  2496076.577     24   5690     42    0.22%      43     22\n",
      "   42808  2501500.000  2496218.468     24   5708     32    0.21%      34     23\n",
      "   43808  2501500.000  2496272.460     24   5743     24    0.21%      52     23\n",
      "   44816  2501500.000  2496403.625     24   5751     27    0.20%      44     24\n",
      "   45817  2501500.000  2496496.655     24   5767     28    0.20%      42     24\n",
      "   46817  2501500.000  2496594.575     24   5746     23    0.20%      68     25\n",
      "   47818  2501500.000  2496698.976     24   5716     25    0.19%      66     25\n",
      "   48818  2501500.000  2496830.584     24   5679     32    0.19%      37     25\n",
      "   49836  2501500.000  2496901.669     24   5636     31    0.18%      41     26\n",
      "   50840  2501500.000  2496974.334     24   5610     31    0.18%      49     26\n",
      "   51852  2501500.000  2497119.188     24   5544     32    0.18%      49     27\n",
      "   52856  2501500.000  2497231.319     24   5470     38    0.17%      35     27\n",
      "   53866  2501500.000  2497322.104     24   5433     30    0.17%      35     28\n",
      "   54870  2501500.000  2497403.726     24   5357     23    0.16%      46     28\n",
      "   55882  2501500.000  2497508.057     24   5285     30    0.16%      40     28\n",
      "   56882  2501500.000  2497595.585     24   5223     31    0.16%      42     29\n",
      "   57886  2501500.000  2497699.357     24   5133     29    0.15%      36     29\n",
      "   58886  2501500.000  2497791.369     24   5034     33    0.15%      46     30\n",
      "   59889  2501500.000  2497907.947     24   4899     28    0.14%      42     30\n",
      "   60897  2501500.000  2498017.245     24   4786     37    0.14%      59     31\n",
      "Elapsed time (sec): 31, estimated tree completion: 0.81478\n",
      "Heap usage: 81MB (peak 81MB, 3360KB system)\n",
      "B&B tree size: 32MB total\n",
      " \n",
      "    Node     BestSoln    BestBound   Sols Active  Depth     Gap     GInf   Time\n",
      "   61902  2501500.000  2498105.431     24   4654     28    0.14%      45     31\n",
      "   62904  2501500.000  2498268.639     24   4478     24    0.13%      33     31\n",
      "   63913  2501500.000  2498383.455     24   4311     24    0.12%      52     32\n",
      "   64923  2501500.000  2498532.463     24   4127     31    0.12%      41     32\n",
      "   65928  2501500.000  2498658.373     24   3927     29    0.11%      42     32\n",
      "   66936  2501500.000  2498815.227     24   3727     26    0.11%      42     33\n",
      "   67950  2501500.000  2498951.233     24   3496     31    0.10%      46     33\n",
      "   68953  2501500.000  2499083.935     24   3235     30    0.10%      44     33\n",
      "   69954  2501500.000  2499294.715     24   2946     27    0.09%      62     34\n",
      "   70955  2501500.000  2499487.244     24   2639     26    0.08%      37     34\n",
      "   71961  2501500.000  2499731.345     24   2291     28    0.07%      63     34\n",
      "   72961  2501500.000  2499965.328     24   1895     40    0.06%      50     35\n",
      "   73961  2501500.000  2500318.195     24   1395     30    0.05%      35     35\n",
      "   74961  2501500.000  2500850.954     24    665     30    0.03%      30     35\n",
      "STOPPING - MIPRELSTOP target reached (MIPRELSTOP=0.0001  gap=9.9765e-05).\n",
      "STOPPING - MIPRELSTOP target reached (MIPRELSTOP=0.0001  gap=9.9765e-05).\n",
      " *** Search completed ***\n",
      "Numerical issues encountered:\n",
      "   Dual failures    :      2 out of    177634 (ratio: 0.0000)\n",
      "Uncrunching matrix\n",
      "Final MIP objective                   : 2.501499999999985e+06\n",
      "Final MIP bound                       : 2.501250437891907e+06\n",
      "  Solution time / primaldual integral :        35s/  1.605832%\n",
      "  Number of solutions found / nodes   :        24 /     75418\n",
      "  Max primal violation      (abs/rel) : 5.533e-08 / 5.533e-08\n",
      "  Max integer violation     (abs    ) : 8.127e-14\n"
     ]
    }
   ],
   "source": [
    "#prob.write(\"pro\",\"lp\")\n",
    "prob.solve()"
   ]
  },
  {
   "cell_type": "code",
   "execution_count": 24,
   "id": "b95544a4",
   "metadata": {
    "scrolled": true
   },
   "outputs": [
    {
     "name": "stdout",
     "output_type": "stream",
     "text": [
      "\n",
      " budget =  2501499.999999985 \n",
      "\n",
      "unmet demand =  0.0\n"
     ]
    }
   ],
   "source": [
    "#prob.getSolution(budget)\n",
    "print(\"\\n\", \"budget = \" , prob.getSolution(budget), \"\\n\")\n",
    "print(\"unmet demand = \",sum(prob.getSolution(undemand)))"
   ]
  },
  {
   "cell_type": "code",
   "execution_count": 25,
   "id": "2addd0fa",
   "metadata": {},
   "outputs": [
    {
     "data": {
      "text/plain": [
       "1749500"
      ]
     },
     "execution_count": 25,
     "metadata": {},
     "output_type": "execute_result"
    }
   ],
   "source": [
    "cbudget"
   ]
  },
  {
   "cell_type": "code",
   "execution_count": 26,
   "id": "d9d26caa",
   "metadata": {},
   "outputs": [],
   "source": [
    "# diff_df = pd.DataFrame(data = prob.getSolution(diff), index = Grids)\n",
    "\n",
    "# diff_df = diff_df.style.set_caption('diff')\n",
    "\n",
    "# display(diff_df)"
   ]
  },
  {
   "cell_type": "code",
   "execution_count": 27,
   "id": "d8b44cfc",
   "metadata": {},
   "outputs": [],
   "source": [
    "newstations_df = pd.DataFrame(data = prob.getSolution(newstations), index = Grids)\n",
    "\n",
    "#newstations_df = newstations_df.style.set_caption('newstations')\n",
    "\n",
    "#display(newstations_df)\n",
    "\n",
    "#newstations_df.loc[(newstations_df!=0).any(1) ]"
   ]
  },
  {
   "cell_type": "code",
   "execution_count": 28,
   "id": "e7166cad",
   "metadata": {
    "scrolled": true
   },
   "outputs": [],
   "source": [
    "addstations_df = pd.DataFrame(data = prob.getSolution(addstations), index = Grids)\n",
    "\n",
    "#addstations_df.loc[(addstations_df!=0).any(1) ]"
   ]
  },
  {
   "cell_type": "code",
   "execution_count": 29,
   "id": "ebcd8a59",
   "metadata": {},
   "outputs": [
    {
     "name": "stdout",
     "output_type": "stream",
     "text": [
      "unmet demand =  0.0\n",
      "\n",
      " budget =  2501499.999999985 \n",
      "\n",
      "max new stations per point 4 \n",
      "\n",
      "max supp stations per point 2 \n",
      "\n"
     ]
    }
   ],
   "source": [
    "print(\"unmet demand = \",sum(prob.getSolution(undemand)))\n",
    "print(\"\\n\", \"budget = \" , prob.getSolution(budget), \"\\n\")\n",
    "print(\"max new stations per point\", maxchargestation , \"\\n\")\n",
    "print(\"max supp stations per point\", add_lim,  \"\\n\" )\n",
    "\n"
   ]
  },
  {
   "cell_type": "code",
   "execution_count": 30,
   "id": "1662e277",
   "metadata": {},
   "outputs": [
    {
     "name": "stdout",
     "output_type": "stream",
     "text": [
      "\n",
      " budget =  2501499.999999985 \n",
      "\n",
      " number of stations in centre:  29.99999999999998 \n",
      "\n",
      "unmet demand =  0.0\n",
      "city stat bound:  30\n"
     ]
    }
   ],
   "source": [
    "## calculate the number of stations within city centre\n",
    "numcen = 0\n",
    "for i in citycentre:\n",
    "    numcen += newstations_df.iloc[i-1,0] + addstations_df.iloc[i-1,0] + init_points_pgrid[i-1]\n",
    "\n",
    "    \n",
    "#prob.getSolution(budget)\n",
    "print(\"\\n\", \"budget = \" , prob.getSolution(budget), \"\\n\")\n",
    "print(\" number of stations in centre: \", numcen, \"\\n\")\n",
    "print(\"unmet demand = \",sum(prob.getSolution(undemand)))\n",
    "print(\"city stat bound: \", csb)\n",
    "\n",
    "\n"
   ]
  },
  {
   "cell_type": "code",
   "execution_count": 31,
   "id": "34a5a63c",
   "metadata": {
    "scrolled": false
   },
   "outputs": [
    {
     "name": "stderr",
     "output_type": "stream",
     "text": [
      "C:\\Users\\User\\AppData\\Local\\Temp\\ipykernel_12364\\871685735.py:3: FutureWarning: In a future version of pandas all arguments of DataFrame.any and Series.any will be keyword-only.\n",
      "  newpoint_df.loc[(newpoint_df!=0).any(1) ]\n"
     ]
    },
    {
     "data": {
      "text/html": [
       "<div>\n",
       "<style scoped>\n",
       "    .dataframe tbody tr th:only-of-type {\n",
       "        vertical-align: middle;\n",
       "    }\n",
       "\n",
       "    .dataframe tbody tr th {\n",
       "        vertical-align: top;\n",
       "    }\n",
       "\n",
       "    .dataframe thead th {\n",
       "        text-align: right;\n",
       "    }\n",
       "</style>\n",
       "<table border=\"1\" class=\"dataframe\">\n",
       "  <thead>\n",
       "    <tr style=\"text-align: right;\">\n",
       "      <th></th>\n",
       "      <th>0</th>\n",
       "    </tr>\n",
       "  </thead>\n",
       "  <tbody>\n",
       "    <tr>\n",
       "      <th>87</th>\n",
       "      <td>1.0</td>\n",
       "    </tr>\n",
       "    <tr>\n",
       "      <th>118</th>\n",
       "      <td>1.0</td>\n",
       "    </tr>\n",
       "    <tr>\n",
       "      <th>120</th>\n",
       "      <td>3.0</td>\n",
       "    </tr>\n",
       "    <tr>\n",
       "      <th>133</th>\n",
       "      <td>2.0</td>\n",
       "    </tr>\n",
       "    <tr>\n",
       "      <th>145</th>\n",
       "      <td>1.0</td>\n",
       "    </tr>\n",
       "    <tr>\n",
       "      <th>146</th>\n",
       "      <td>1.0</td>\n",
       "    </tr>\n",
       "    <tr>\n",
       "      <th>148</th>\n",
       "      <td>1.0</td>\n",
       "    </tr>\n",
       "    <tr>\n",
       "      <th>170</th>\n",
       "      <td>1.0</td>\n",
       "    </tr>\n",
       "    <tr>\n",
       "      <th>174</th>\n",
       "      <td>3.0</td>\n",
       "    </tr>\n",
       "    <tr>\n",
       "      <th>176</th>\n",
       "      <td>1.0</td>\n",
       "    </tr>\n",
       "    <tr>\n",
       "      <th>183</th>\n",
       "      <td>1.0</td>\n",
       "    </tr>\n",
       "    <tr>\n",
       "      <th>186</th>\n",
       "      <td>1.0</td>\n",
       "    </tr>\n",
       "    <tr>\n",
       "      <th>188</th>\n",
       "      <td>1.0</td>\n",
       "    </tr>\n",
       "    <tr>\n",
       "      <th>199</th>\n",
       "      <td>1.0</td>\n",
       "    </tr>\n",
       "    <tr>\n",
       "      <th>202</th>\n",
       "      <td>1.0</td>\n",
       "    </tr>\n",
       "    <tr>\n",
       "      <th>204</th>\n",
       "      <td>1.0</td>\n",
       "    </tr>\n",
       "    <tr>\n",
       "      <th>212</th>\n",
       "      <td>2.0</td>\n",
       "    </tr>\n",
       "    <tr>\n",
       "      <th>213</th>\n",
       "      <td>1.0</td>\n",
       "    </tr>\n",
       "    <tr>\n",
       "      <th>232</th>\n",
       "      <td>1.0</td>\n",
       "    </tr>\n",
       "    <tr>\n",
       "      <th>241</th>\n",
       "      <td>1.0</td>\n",
       "    </tr>\n",
       "    <tr>\n",
       "      <th>274</th>\n",
       "      <td>1.0</td>\n",
       "    </tr>\n",
       "    <tr>\n",
       "      <th>286</th>\n",
       "      <td>2.0</td>\n",
       "    </tr>\n",
       "    <tr>\n",
       "      <th>290</th>\n",
       "      <td>1.0</td>\n",
       "    </tr>\n",
       "    <tr>\n",
       "      <th>327</th>\n",
       "      <td>1.0</td>\n",
       "    </tr>\n",
       "    <tr>\n",
       "      <th>354</th>\n",
       "      <td>3.0</td>\n",
       "    </tr>\n",
       "    <tr>\n",
       "      <th>355</th>\n",
       "      <td>1.0</td>\n",
       "    </tr>\n",
       "    <tr>\n",
       "      <th>381</th>\n",
       "      <td>1.0</td>\n",
       "    </tr>\n",
       "    <tr>\n",
       "      <th>411</th>\n",
       "      <td>1.0</td>\n",
       "    </tr>\n",
       "  </tbody>\n",
       "</table>\n",
       "</div>"
      ],
      "text/plain": [
       "       0\n",
       "87   1.0\n",
       "118  1.0\n",
       "120  3.0\n",
       "133  2.0\n",
       "145  1.0\n",
       "146  1.0\n",
       "148  1.0\n",
       "170  1.0\n",
       "174  3.0\n",
       "176  1.0\n",
       "183  1.0\n",
       "186  1.0\n",
       "188  1.0\n",
       "199  1.0\n",
       "202  1.0\n",
       "204  1.0\n",
       "212  2.0\n",
       "213  1.0\n",
       "232  1.0\n",
       "241  1.0\n",
       "274  1.0\n",
       "286  2.0\n",
       "290  1.0\n",
       "327  1.0\n",
       "354  3.0\n",
       "355  1.0\n",
       "381  1.0\n",
       "411  1.0"
      ]
     },
     "execution_count": 31,
     "metadata": {},
     "output_type": "execute_result"
    }
   ],
   "source": [
    "newpoint_df = pd.DataFrame(data = prob.getSolution(newpoint), index = Grids)\n",
    "\n",
    "newpoint_df.loc[(newpoint_df!=0).any(1) ]"
   ]
  },
  {
   "cell_type": "code",
   "execution_count": 32,
   "id": "374f1407",
   "metadata": {},
   "outputs": [
    {
     "name": "stderr",
     "output_type": "stream",
     "text": [
      "C:\\Users\\User\\AppData\\Local\\Temp\\ipykernel_12364\\262318739.py:3: FutureWarning: In a future version of pandas all arguments of DataFrame.any and Series.any will be keyword-only.\n",
      "  addstations_df.loc[(addstations_df!=0).any(1) ]\n"
     ]
    },
    {
     "data": {
      "text/html": [
       "<div>\n",
       "<style scoped>\n",
       "    .dataframe tbody tr th:only-of-type {\n",
       "        vertical-align: middle;\n",
       "    }\n",
       "\n",
       "    .dataframe tbody tr th {\n",
       "        vertical-align: top;\n",
       "    }\n",
       "\n",
       "    .dataframe thead th {\n",
       "        text-align: right;\n",
       "    }\n",
       "</style>\n",
       "<table border=\"1\" class=\"dataframe\">\n",
       "  <thead>\n",
       "    <tr style=\"text-align: right;\">\n",
       "      <th></th>\n",
       "      <th>0</th>\n",
       "    </tr>\n",
       "  </thead>\n",
       "  <tbody>\n",
       "    <tr>\n",
       "      <th>133</th>\n",
       "      <td>1.0</td>\n",
       "    </tr>\n",
       "    <tr>\n",
       "      <th>145</th>\n",
       "      <td>1.0</td>\n",
       "    </tr>\n",
       "    <tr>\n",
       "      <th>146</th>\n",
       "      <td>2.0</td>\n",
       "    </tr>\n",
       "    <tr>\n",
       "      <th>172</th>\n",
       "      <td>2.0</td>\n",
       "    </tr>\n",
       "    <tr>\n",
       "      <th>188</th>\n",
       "      <td>1.0</td>\n",
       "    </tr>\n",
       "    <tr>\n",
       "      <th>227</th>\n",
       "      <td>1.0</td>\n",
       "    </tr>\n",
       "    <tr>\n",
       "      <th>300</th>\n",
       "      <td>1.0</td>\n",
       "    </tr>\n",
       "    <tr>\n",
       "      <th>303</th>\n",
       "      <td>1.0</td>\n",
       "    </tr>\n",
       "    <tr>\n",
       "      <th>368</th>\n",
       "      <td>3.0</td>\n",
       "    </tr>\n",
       "  </tbody>\n",
       "</table>\n",
       "</div>"
      ],
      "text/plain": [
       "       0\n",
       "133  1.0\n",
       "145  1.0\n",
       "146  2.0\n",
       "172  2.0\n",
       "188  1.0\n",
       "227  1.0\n",
       "300  1.0\n",
       "303  1.0\n",
       "368  3.0"
      ]
     },
     "execution_count": 32,
     "metadata": {},
     "output_type": "execute_result"
    }
   ],
   "source": [
    "addstations_df = pd.DataFrame(data = prob.getSolution(addstations), index = Grids)\n",
    "\n",
    "addstations_df.loc[(addstations_df!=0).any(1) ]"
   ]
  },
  {
   "cell_type": "code",
   "execution_count": 33,
   "id": "0d16e138",
   "metadata": {
    "scrolled": false
   },
   "outputs": [
    {
     "name": "stderr",
     "output_type": "stream",
     "text": [
      "C:\\Users\\User\\AppData\\Local\\Temp\\ipykernel_12364\\3015574095.py:5: FutureWarning: In a future version of pandas all arguments of DataFrame.any and Series.any will be keyword-only.\n",
      "  undemand_df.loc[(undemand_df!=0).any(1) ]\n"
     ]
    },
    {
     "data": {
      "text/html": [
       "<div>\n",
       "<style scoped>\n",
       "    .dataframe tbody tr th:only-of-type {\n",
       "        vertical-align: middle;\n",
       "    }\n",
       "\n",
       "    .dataframe tbody tr th {\n",
       "        vertical-align: top;\n",
       "    }\n",
       "\n",
       "    .dataframe thead th {\n",
       "        text-align: right;\n",
       "    }\n",
       "</style>\n",
       "<table border=\"1\" class=\"dataframe\">\n",
       "  <thead>\n",
       "    <tr style=\"text-align: right;\">\n",
       "      <th></th>\n",
       "      <th>0</th>\n",
       "    </tr>\n",
       "  </thead>\n",
       "  <tbody>\n",
       "  </tbody>\n",
       "</table>\n",
       "</div>"
      ],
      "text/plain": [
       "Empty DataFrame\n",
       "Columns: [0]\n",
       "Index: []"
      ]
     },
     "execution_count": 33,
     "metadata": {},
     "output_type": "execute_result"
    }
   ],
   "source": [
    "## Output\n",
    "\n",
    "undemand_df = pd.DataFrame(data = prob.getSolution(undemand), index = Grids)\n",
    "\n",
    "undemand_df.loc[(undemand_df!=0).any(1) ]\n"
   ]
  },
  {
   "cell_type": "code",
   "execution_count": 34,
   "id": "2d0d9d55",
   "metadata": {},
   "outputs": [
    {
     "data": {
      "text/plain": [
       "0.0"
      ]
     },
     "execution_count": 34,
     "metadata": {},
     "output_type": "execute_result"
    }
   ],
   "source": [
    "undemand_df = pd.DataFrame(data = prob.getSolution(undemand), index = Grids, columns = ['undemand'])\n",
    "\n",
    "sum(undemand_df['undemand'])"
   ]
  },
  {
   "cell_type": "code",
   "execution_count": 35,
   "id": "f1fd174a",
   "metadata": {
    "scrolled": false
   },
   "outputs": [],
   "source": [
    "## see the grids with \n",
    "# tsupply_df = pd.DataFrame(data = prob.getSolution(tsupply), index = Grids)\n",
    "\n",
    "# tsupply_df.loc[(tsupply_df!=0).any(1) ]"
   ]
  },
  {
   "cell_type": "code",
   "execution_count": 36,
   "id": "2aedf0df",
   "metadata": {},
   "outputs": [],
   "source": [
    "import geopandas as gdp\n",
    "import shapely\n",
    "from shapely import wkt\n",
    "import matplotlib as plt \n",
    "\n",
    "#import osmnx as ox\n",
    "#import contextily  as ctx\n",
    "\n",
    "demand = pd.read_excel('Demand_data1.xlsx')\n",
    "demand['geometry'] = demand['geometry'].apply(wkt.loads)\n",
    "#print(demand)\n",
    "\n",
    "gdf = gdp.GeoDataFrame(demand, geometry = 'geometry', crs = 'EPSG:27700')"
   ]
  },
  {
   "cell_type": "code",
   "execution_count": 37,
   "id": "5f4df936",
   "metadata": {},
   "outputs": [
    {
     "data": {
      "text/plain": [
       "<AxesSubplot:>"
      ]
     },
     "execution_count": 37,
     "metadata": {},
     "output_type": "execute_result"
    },
    {
     "data": {
      "image/png": "[encoded data removed]",
      "text/plain": [
       "<Figure size 1000x400 with 2 Axes>"
      ]
     },
     "metadata": {},
     "output_type": "display_data"
    }
   ],
   "source": [
    "diff_df = pd.DataFrame(data = prob.getSolution(diff), index = Grids, columns=['diff'])\n",
    "\n",
    "gdf.plot(column= diff_df[\"diff\"],cmap = 'plasma',  legend=True,legend_kwds={'shrink': 0.5}, figsize=(10,4 ))"
   ]
  },
  {
   "cell_type": "code",
   "execution_count": 38,
   "id": "cddaf1e3",
   "metadata": {},
   "outputs": [
    {
     "data": {
      "text/plain": [
       "<AxesSubplot:>"
      ]
     },
     "execution_count": 38,
     "metadata": {},
     "output_type": "execute_result"
    },
    {
     "data": {
      "image/png": "[encoded data removed]",
      "text/plain": [
       "<Figure size 1000x400 with 2 Axes>"
      ]
     },
     "metadata": {},
     "output_type": "display_data"
    }
   ],
   "source": [
    "tsupply_df = pd.DataFrame(data = prob.getSolution(tsupply), index = Grids, columns=['tsupply'])\n",
    "\n",
    "gdf.plot(column= tsupply_df[\"tsupply\"],cmap = 'plasma', legend=True,legend_kwds={'shrink': 0.5}, figsize=(10,4 ))"
   ]
  },
  {
   "cell_type": "code",
   "execution_count": 39,
   "id": "54d7c58b",
   "metadata": {},
   "outputs": [
    {
     "data": {
      "text/plain": [
       "<AxesSubplot:>"
      ]
     },
     "execution_count": 39,
     "metadata": {},
     "output_type": "execute_result"
    },
    {
     "data": {
      "image/png": "[encoded data removed]",
      "text/plain": [
       "<Figure size 1000x400 with 2 Axes>"
      ]
     },
     "metadata": {},
     "output_type": "display_data"
    }
   ],
   "source": [
    "newpoint_df = pd.DataFrame(data = prob.getSolution(newpoint), index = Grids, columns=['newpoint'])\n",
    "gdf.plot(column= newpoint_df[\"newpoint\"],cmap = 'plasma', legend=True,legend_kwds={'shrink': 0.5}, figsize=(10,4 ))\n"
   ]
  },
  {
   "cell_type": "code",
   "execution_count": 40,
   "id": "3324173f",
   "metadata": {},
   "outputs": [
    {
     "data": {
      "text/plain": [
       "<AxesSubplot:>"
      ]
     },
     "execution_count": 40,
     "metadata": {},
     "output_type": "execute_result"
    },
    {
     "data": {
      "image/png": "[encoded data removed]",
      "text/plain": [
       "<Figure size 1000x400 with 2 Axes>"
      ]
     },
     "metadata": {},
     "output_type": "display_data"
    }
   ],
   "source": [
    "newstations_df = pd.DataFrame(data = prob.getSolution(newstations), index = Grids, columns=['newstations'])\n",
    "gdf.plot(column= newstations_df[\"newstations\"],cmap = 'plasma', legend=True,legend_kwds={'shrink': 0.5}, figsize=(10,4 ))"
   ]
  },
  {
   "cell_type": "code",
   "execution_count": 41,
   "id": "2954b944",
   "metadata": {},
   "outputs": [
    {
     "data": {
      "text/plain": [
       "<AxesSubplot:>"
      ]
     },
     "execution_count": 41,
     "metadata": {},
     "output_type": "execute_result"
    },
    {
     "data": {
      "image/png": "[encoded data removed]",
      "text/plain": [
       "<Figure size 1000x400 with 2 Axes>"
      ]
     },
     "metadata": {},
     "output_type": "display_data"
    }
   ],
   "source": [
    "addstations_df = pd.DataFrame(data = prob.getSolution(addstations), index = Grids, columns=['addstations'])\n",
    "gdf.plot(column= addstations_df[\"addstations\"],cmap = 'plasma', legend=True,legend_kwds={'shrink': 0.5}, figsize=(10,4 ))"
   ]
  },
  {
   "cell_type": "markdown",
   "id": "3c716527",
   "metadata": {},
   "source": [
    "totstations_df = pd.DataFrame(data = (prob.getSolution(addstations)+prob.getSolution(newstations)) , index = Grids, columns=['totstations'])\n",
    "\n",
    "\n",
    "#gdf.plot(column= totstations_df[\"totstations\"],cmap = 'plasma', legend=True,legend_kwds={'shrink': 0.5}, figsize=(10,4 ))\n"
   ]
  },
  {
   "cell_type": "markdown",
   "id": "58e7c316",
   "metadata": {},
   "source": [
    "\n",
    "for i in citycentre:\n",
    "    numcen += newstations_df.iloc[i-1,0] + addstations_df.iloc[i-1,0] + init_points_pgrid[i-1]\n",
    "    \n",
    "numcen"
   ]
  },
  {
   "cell_type": "markdown",
   "id": "e87966ab",
   "metadata": {},
   "source": [
    "curstations_df = pd.DataFrame(data = init_points_pgrid , index = Grids)\n",
    "addstations_df = pd.DataFrame(data = prob.getSolution(addstations), index = Grids)\n",
    "newstations_df = pd.DataFrame(data = prob.getSolution(newstations), index = Grids)"
   ]
  },
  {
   "cell_type": "markdown",
   "id": "cd398a0e",
   "metadata": {},
   "source": [
    "totstations_df = gdp.join(newstations_df, addstations_df, curstations_df)"
   ]
  },
  {
   "cell_type": "code",
   "execution_count": 50,
   "id": "59a09763",
   "metadata": {},
   "outputs": [
    {
     "name": "stdout",
     "output_type": "stream",
     "text": [
      "(array([174], dtype=int64),)\n",
      "(array([188, 354], dtype=int64),)\n",
      "(array([120, 215], dtype=int64),)\n",
      "(array([], dtype=int64),)\n",
      "(array([133], dtype=int64),)\n",
      "(array([], dtype=int64),)\n",
      "(array([145, 213, 286], dtype=int64),)\n",
      "(array([212, 368], dtype=int64),)\n",
      "184.99999999999997\n",
      "78\n",
      "93.99999999999997\n",
      "13.0\n"
     ]
    }
   ],
   "source": [
    "#len((prob.getSolution(addstations).to_numpy() + prob.getSolution(newstations).to_numpy()))\n",
    "\n",
    "\n",
    "a = np.array(prob.getSolution(addstations))\n",
    "b = np.array(prob.getSolution(newstations))\n",
    "c = np.array(init_points_pgrid)\n",
    "\n",
    "len(a+b+c)\n",
    "\n",
    "d = a+b+c \n",
    "print(np.where(d == 12))\n",
    "print(np.where(d == 11))\n",
    "print(np.where(d == 10))\n",
    "print(np.where(d == 9))\n",
    "print(np.where(d == 8))\n",
    "print(np.where(d == 7))\n",
    "print(np.where(d == 6))\n",
    "print(np.where(d == 5))\n",
    "print(sum(d))\n",
    "print(sum(c))\n",
    "print(sum(b))\n",
    "print(sum(a))"
   ]
  },
  {
   "cell_type": "code",
   "execution_count": 43,
   "id": "238bbf10",
   "metadata": {},
   "outputs": [
    {
     "data": {
      "text/plain": [
       "<AxesSubplot:>"
      ]
     },
     "execution_count": 43,
     "metadata": {},
     "output_type": "execute_result"
    },
    {
     "data": {
      "image/png": "[encoded data removed]",
      "text/plain": [
       "<Figure size 1000x500 with 1 Axes>"
      ]
     },
     "metadata": {},
     "output_type": "display_data"
    }
   ],
   "source": [
    "totstations2_df = pd.DataFrame(data = d , index = Grids, columns=['totstations'])\n",
    "\n",
    "#totstations_df.loc[(totstations_df!=0).any(1) ]\n",
    "#legend_kwds={'shrink': 0.5}, figsize=(10,4 )\n",
    "#gdf.plot(column= totstations2_df[\"totstations\"], cmap = 'plasma', legend=True , legend_kwds={'shrink': 0.5}, figsize=(10,4 ) )\n",
    "\n",
    "\n",
    "#legend_kwds={'loc': 'center left', 'bbox_to_anchor':(1,0.5),  'fmt':\"{:.0f}\"}\n",
    "#,  figsize=(10,4 )\n",
    "\n",
    "gdf.plot(column= totstations2_df[\"totstations\"] , categorical = True, cmap = 'plasma', legend=True ,\n",
    "         legend_kwds={'loc': 'center left', 'bbox_to_anchor':(1,0.5), \"fmt\": \"{:.0f}\"} ,  figsize=(10,5 ))"
   ]
  },
  {
   "cell_type": "code",
   "execution_count": null,
   "id": "55b60d79",
   "metadata": {},
   "outputs": [],
   "source": []
  }
 ],
 "metadata": {
  "kernelspec": {
   "display_name": "Python 3 (ipykernel)",
   "language": "python",
   "name": "python3"
  },
  "language_info": {
   "codemirror_mode": {
    "name": "ipython",
    "version": 3
   },
   "file_extension": ".py",
   "mimetype": "text/x-python",
   "name": "python",
   "nbconvert_exporter": "python",
   "pygments_lexer": "ipython3",
   "version": "3.9.12"
  }
 },
 "nbformat": 4,
 "nbformat_minor": 5
}
