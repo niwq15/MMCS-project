{
 "cells": [
  {
   "cell_type": "code",
   "execution_count": 1,
   "id": "a3022f62",
   "metadata": {},
   "outputs": [],
   "source": [
    "import xpress as xp\n",
    "import pandas as pd\n",
    "import numpy as np\n",
    "\n",
    "import re"
   ]
  },
  {
   "cell_type": "code",
   "execution_count": 2,
   "id": "3df2d227",
   "metadata": {},
   "outputs": [],
   "source": [
    "# Data input\n",
    "demand = pd.read_excel('Demand_data1.xlsx')"
   ]
  },
  {
   "cell_type": "code",
   "execution_count": 3,
   "id": "7f3098a9",
   "metadata": {},
   "outputs": [],
   "source": [
    "# Create a problem\n",
    "prob = xp.problem(name='pro')"
   ]
  },
  {
   "cell_type": "code",
   "execution_count": 4,
   "id": "be109d24",
   "metadata": {},
   "outputs": [],
   "source": [
    "# Defining the index sets\n",
    "number_of_periods = 4\n",
    "number_of_grids = 434\n",
    "type_of_chargers = 3\n",
    "\n",
    "number_of_chargers = 78\n",
    "number_of_pchargers = 325\n",
    "\n",
    "Periods = range(number_of_periods)\n",
    "Grids = range(number_of_grids)\n",
    "Chargers = range(type_of_chargers)\n"
   ]
  },
  {
   "cell_type": "code",
   "execution_count": 47,
   "id": "e009429b",
   "metadata": {},
   "outputs": [
    {
     "data": {
      "text/plain": [
       "array([ 402040.508053  ,  579164.02756729,  802124.90918686,\n",
       "       1132889.98090692])"
      ]
     },
     "execution_count": 47,
     "metadata": {},
     "output_type": "execute_result"
    }
   ],
   "source": [
    "sum(targetdemand)"
   ]
  },
  {
   "cell_type": "code",
   "execution_count": 48,
   "id": "fb1d586f",
   "metadata": {},
   "outputs": [
    {
     "data": {
      "text/plain": [
       "0.7080342510794645"
      ]
     },
     "execution_count": 48,
     "metadata": {},
     "output_type": "execute_result"
    }
   ],
   "source": [
    "802124.90918686/1132889.98090692"
   ]
  },
  {
   "cell_type": "code",
   "execution_count": 5,
   "id": "9ba2de87",
   "metadata": {},
   "outputs": [],
   "source": [
    "## Define variables \n",
    "\n",
    "# calculate the individual grid supply \n",
    "isupply = {(g, y): xp.var(lb=0, name='isupply{0}_{1}'.format(g, y))\n",
    "                for g in Grids for y in Periods}\n",
    "\n",
    "# final supply amount given the assumption about power sharing between grids\n",
    "tsupply = {(g, y): xp.var(lb=0, name='tsupply{0}_{1}'.format(g, y))\n",
    "                for g in Grids for y in Periods}\n",
    "\n",
    "# demand-supply difference \n",
    "diff = {(g, y): xp.var(lb=-50000, name='diff{0}_{1}'.format(g, y))\n",
    "                for g in Grids for y in Periods}\n",
    "\n",
    "# store the amound of unmet demand: diff if diff > 0; 0 if diff <= 0\n",
    "undemand = {(g, y): xp.var(lb=0, name='undemand{0}_{1}'.format(g, y))\n",
    "                for g in Grids for y in Periods}\n",
    "\n",
    "#budget: total expenditure = cost of chargers + construction cost\n",
    "budget = xp.var('budget', lb=0)\n",
    "\n",
    "prob.addVariable(isupply, tsupply, diff , undemand , budget)"
   ]
  },
  {
   "cell_type": "code",
   "execution_count": 6,
   "id": "a03b230f",
   "metadata": {},
   "outputs": [],
   "source": [
    "## Adding Stations and points \n",
    "\n",
    "#total new points\n",
    "newpoint = {(g, y): xp.var(vartype=xp.integer,lb=0, name='newpoint{0}_{1}'.format(g, y))\n",
    "                for g in Grids for y in Periods}\n",
    "\n",
    "#number of types of new points\n",
    "\n",
    "newpointty = {(g, c, y): xp.var(vartype=xp.integer, name='newpointty{0}_{1}_{2}'.format(g, c, y))\n",
    "              for g in Grids for c in Chargers for y in Periods}\n",
    "\n",
    "#stations = number of stations built at each charging point (max = 20)\n",
    "newstations = {(g, y): xp.var(vartype=xp.integer,lb=0, name='newstations{0}_{1}'.format(g, y))\n",
    "                for g in Grids for y in Periods}\n",
    "\n",
    "#variable for each type of station \n",
    "newstationsty = {(g, c, y): xp.var(vartype=xp.integer, name='newstationsty{0}_{1}_{2}'.format(g, c, y))\n",
    "                for g in Grids for c in Chargers for y in Periods} \n",
    "\n",
    "#new_supply from the newly built stations \n",
    "newpower = {(g, y): xp.var(name='newpower{0}_{1}'.format(g, y))\n",
    "                for g in Grids for y in Periods}\n",
    "\n",
    "#for each pre-existing charging station you can add upto X new stations \n",
    "addstations = {(g, y): xp.var(vartype=xp.integer, name='addstations{0}_{1}'.format(g, y))\n",
    "                for g in Grids for y in Periods}\n",
    "\n",
    "addstationsty = {(g, c, y): xp.var(vartype=xp.integer, name='addstationsty{0}_{1}_{2}'.format(g, c, y))\n",
    "                for g in Grids for c in Chargers for y in Periods}\n",
    "\n",
    "# additional supply for the additional stations: \n",
    "addpower = {(g, y): xp.var(name='addpower{0}_{1}'.format(g, y))\n",
    "                for g in Grids for y in Periods}\n",
    "\n",
    "\n",
    "prob.addVariable(newpoint, newpointty,\n",
    "                 newstations, newstationsty,\n",
    "                 newpower, \n",
    "                 addstations, addstationsty,\n",
    "                 addpower)\n"
   ]
  },
  {
   "cell_type": "code",
   "execution_count": 7,
   "id": "a7645782",
   "metadata": {
    "scrolled": true
   },
   "outputs": [],
   "source": [
    "# targetdemand"
   ]
  },
  {
   "cell_type": "code",
   "execution_count": 8,
   "id": "d1d7986a",
   "metadata": {},
   "outputs": [],
   "source": [
    "#Problem Parameters\n",
    "charger_names = ['Slow', 'Fast', 'Rapid']\n",
    "chargerpower = [2750, 4600, 40250]\n",
    "\n",
    "chargerprice = [12500, 14000, 52000] ## for slow, fast, rapid chargers\n",
    "concost = 3000 ## infrastructure construction cost\n",
    "\n",
    "# 4-year demand matrix for each grid \n",
    "targetdemand = demand[['Demand_0','Demand_1','Demand_2','Demand_3']]\n",
    "targetdemand = targetdemand.to_numpy()\n",
    "\n",
    "# ##### only use the year 4 demand to test the model\n",
    "# for g in Grids:\n",
    "#     targetdemand[g,0:3] = 0\n",
    "# #####\n",
    "    \n",
    "    \n",
    "#max stations per new point \n",
    "maxchargestation = 4\n",
    "#mas stations added to pre-existing point \n",
    "add_lim = 2\n",
    "\n",
    "\n",
    "#Currentchargers = chargepoints[['Type','grid_number']]\n",
    "# Current chargers availability:\n",
    "currentchargers = demand[['Number_of Slow_Charging_Points','Number_of_Fast_Charging_Points','Number_of Rapid_Charging_Points']]\n",
    "currentchargers = currentchargers.to_numpy() ## convert to array\n",
    "\n",
    "\n",
    "# Potential Charging points per grid g: \n",
    "ppoint_per_grid = demand['Number_of_Potential_Locations']\n",
    "ppoint_per_grid = ppoint_per_grid.to_numpy()\n",
    "\n",
    "#Number of pre-existing charging points per grid \n",
    "init_points_pgrid = demand['Number_of_Charging_Points']\n",
    "init_points_pgrid = init_points_pgrid.to_numpy()\n",
    "\n",
    "#Number of interest points per grid \n",
    "interest_points_grid = demand['Number_of_PoI']\n",
    "interest_points_grid = interest_points_grid.to_numpy()"
   ]
  },
  {
   "cell_type": "code",
   "execution_count": 9,
   "id": "9fd95f98",
   "metadata": {},
   "outputs": [],
   "source": [
    "## current expenditure\n",
    "cbudget = 0\n",
    "\n",
    "for g in Grids:\n",
    "    for c in Chargers:\n",
    "        #current expenditure = cost of building all chargers already in all grids \n",
    "        cbudget += chargerprice[c]*currentchargers[g,c]\n",
    "    #add the construction cost for each charger that exists\n",
    "    \n",
    "cbudget = cbudget + number_of_chargers*concost\n",
    "    \n",
    "#print(cbudget) = 1749500"
   ]
  },
  {
   "cell_type": "code",
   "execution_count": 10,
   "id": "f80492f3",
   "metadata": {},
   "outputs": [],
   "source": [
    "## 'neighbours': matrix of neighbors and itself [343*9, 0 will be filled if num_of_share <9]\n",
    "## each grid and its neighbours can support charging\n",
    "neighbors = demand['NEIGHBORS']\n",
    "\n",
    "neighbours = np.zeros((number_of_grids,9))\n",
    "for g in Grids:\n",
    "    nums = neighbors.iloc[g]\n",
    "    num = re.findall(r'\\d+', nums)\n",
    "    num = list(map(int, num))\n",
    "    num = np.append(arr = np.array([g+1]), values = num, axis= 0) ## add itself to the start\n",
    "    #num.append(g+1) ## add itself\n",
    "    while len(num)<9: ## fill in zeroes for grids with less than 9 neighbors\n",
    "        #num.append(0)\n",
    "        num = np.append( arr = np.array([0]), values = num, axis=0)\n",
    "        \n",
    "    neighbours[g,]=num\n",
    "    \n",
    "neighbours = neighbours.astype(int) ## convert to an integer array"
   ]
  },
  {
   "cell_type": "code",
   "execution_count": 11,
   "id": "96edff67",
   "metadata": {},
   "outputs": [],
   "source": [
    "## Grid Power Sharing\n",
    "## Constraint 1: Filter the neighbours for each grid: Remove the neighbours with no demand \n",
    "\n",
    "for g in Grids:\n",
    "    for i in range(9):\n",
    "            ne = neighbours[g,i]\n",
    "            if ne >0:\n",
    "            ## remove those grids with no demand (based on Year 4 data)\n",
    "                if (targetdemand[ne-1,3]==0) : \n",
    "                    neighbours[ne-1,][neighbours[ne-1,]== (g+1)] = 0 \n",
    "                    neighbours[g,i] = 0 "
   ]
  },
  {
   "cell_type": "code",
   "execution_count": 12,
   "id": "56f4efe1",
   "metadata": {},
   "outputs": [],
   "source": [
    "## Number of grids that each grid will share its power to \n",
    "num_of_share = (neighbours != 0).sum(1)"
   ]
  },
  {
   "cell_type": "code",
   "execution_count": 13,
   "id": "a53069f5",
   "metadata": {},
   "outputs": [],
   "source": [
    "#current power supply from each grid \n",
    "cpower = np.zeros(number_of_grids)\n",
    "for g in Grids:\n",
    "    for c in Chargers:\n",
    "        cpower[g] = cpower[g] + chargerpower[c]*currentchargers[g,c]\n"
   ]
  },
  {
   "cell_type": "code",
   "execution_count": 14,
   "id": "cfca29b0",
   "metadata": {},
   "outputs": [],
   "source": [
    "## potential charging points\n",
    "\n",
    "\n",
    "# non-decreasing requirement\n",
    "prob.addConstraint(newstationsty[g,c,y-1] <= newstationsty[g,c,y] \n",
    "                   for c in Chargers for g in Grids for y in Periods if y>0)\n",
    "prob.addConstraint(newpointty[g,c,y-1] <= newpointty[g,c,y]\n",
    "                   for c in Chargers for g in Grids for y in Periods if y>0)\n",
    "\n",
    "\n",
    "#station type must match point type. number of stations per point is limited !!\n",
    "# since non-decreasing only need to check final year situation\n",
    "\n",
    "prob.addConstraint(newstationsty[g,c,y] <= maxchargestation*newpointty[g,c,y]\n",
    "                   for c in Chargers for g in Grids for y in Periods )\n",
    "\n",
    "# lower bound\n",
    "prob.addConstraint(newpointty[g,c,y] <= newstationsty[g,c,y] \n",
    "                   for c in Chargers for g in Grids for y in Periods)\n",
    "\n"
   ]
  },
  {
   "cell_type": "code",
   "execution_count": 15,
   "id": "f88c99c6",
   "metadata": {},
   "outputs": [],
   "source": [
    "# the number of new points built per grid per year is the sum of 3 types of charging points\n",
    "prob.addConstraint(newpoint[g,y] == xp.Sum( newpointty[g,c,y] for c in Chargers) \n",
    "                   for g in Grids for y in Periods)\n",
    "\n",
    "\n",
    "# the total number of new points built per grid limited by the number of potential points per grid\n",
    "prob.addConstraint(newpoint[g,3] <= ppoint_per_grid[g] for g in Grids )\n",
    "\n",
    "\n",
    "prob.addConstraint(newpoint[g,y] <= newstations[g,y]\n",
    "                   for g in Grids for y in Periods)"
   ]
  },
  {
   "cell_type": "code",
   "execution_count": 16,
   "id": "d55be1fb",
   "metadata": {},
   "outputs": [],
   "source": [
    "#!! add a lower bound for the number of stations for each built new point\n",
    "\n",
    "\n",
    "#Power from the new charging points, calculated as the sum of power from each station\n",
    "prob.addConstraint(newpower[g,y] == xp.Sum( newstationsty[g,c,y]*chargerpower[c] for c in Chargers)\n",
    "                   for g in Grids for y in Periods )\n",
    "\n"
   ]
  },
  {
   "cell_type": "code",
   "execution_count": 17,
   "id": "b464bf04",
   "metadata": {},
   "outputs": [],
   "source": [
    "## additional charging stations \n",
    "prob.addConstraint(addstationsty[g,c,y] <= add_lim*currentchargers[g,c]\n",
    "                   for g in Grids for c in Chargers for y in Periods)\n",
    "    "
   ]
  },
  {
   "cell_type": "code",
   "execution_count": 18,
   "id": "feba1a17",
   "metadata": {},
   "outputs": [],
   "source": [
    "#total additional stations is the sum of all the additional stations \n",
    "prob.addConstraint(addstations[g,y] == xp.Sum( addstationsty[g,c,y] for c in Chargers )\n",
    "                   for g in Grids for y in Periods) \n",
    "\n",
    "prob.addConstraint(newstations[g,y] == xp.Sum( newstationsty[g,c,y] for c in Chargers )\n",
    "                   for g in Grids for y in Periods) "
   ]
  },
  {
   "cell_type": "code",
   "execution_count": 19,
   "id": "34f3f258",
   "metadata": {},
   "outputs": [],
   "source": [
    "#additional power = sum power from each additional station \n",
    "prob.addConstraint(addpower[g,y] == xp.Sum( addstationsty[g,c,y]*chargerpower[c] for c in Chargers )\n",
    "                   for g in Grids for y in Periods )  \n"
   ]
  },
  {
   "cell_type": "code",
   "execution_count": 20,
   "id": "b18d8f1a",
   "metadata": {},
   "outputs": [],
   "source": [
    "# prob.addConstraint(newstations[g,y-1] <= newstations[g,y] \n",
    "#                    for g in Grids for y in Periods if y>0)\n",
    "# prob.addConstraint(addstations[g,y-1] <= addstations[g,y] \n",
    "#                    for g in Grids for y in Periods if y>0)\n",
    "\n",
    "# prob.addConstraint(newpoint[g,y-1] <= newpoint[g,y] \n",
    "#                    for g in Grids for y in Periods if y>0)\n"
   ]
  },
  {
   "cell_type": "code",
   "execution_count": 21,
   "id": "a5ebdd8c",
   "metadata": {},
   "outputs": [],
   "source": [
    "## interest points\n",
    "## each year should satisfy + non-decreasing => year 1 should satisfy \n",
    "prob.addConstraint(xp.Sum(init_points_pgrid[ne-1]+addstations[ne-1,y]+newstations[ne-1,y] for ne in neighbours[g,] if (ne >0) and (num_of_share[ne-1]>0) ) >= interest_points_grid[g]\n",
    "                   for y in Periods for g in Grids if num_of_share[g] >0)\n",
    "\n"
   ]
  },
  {
   "cell_type": "code",
   "execution_count": 22,
   "id": "ca451df2",
   "metadata": {},
   "outputs": [],
   "source": [
    "#individual supply from each grid : \n",
    "# cpower = current power (from pre-existing stations)\n",
    "# newpower = power from new stations \n",
    "# addpower = power from added stations \n",
    "prob.addConstraint( isupply[g,y] == cpower[g] + newpower[g,y] + addpower[g,y]\n",
    "                   for g in Grids for y in Periods)\n",
    "\n",
    "# the supply recieved by grid g by all its neighbours \n",
    "prob.addConstraint( tsupply[g,y] == xp.Sum(isupply[ne-1,y]/num_of_share[ne-1] \n",
    "                                         for ne in neighbours[g,] if (ne >0) and (num_of_share[ne-1]>0))\n",
    "                    for g in Grids for y in Periods)\n"
   ]
  },
  {
   "cell_type": "code",
   "execution_count": 23,
   "id": "95d15a66",
   "metadata": {},
   "outputs": [],
   "source": [
    "## City Centre: G215 + neighbouring grids\n",
    "## sensitivity analysis: change the bound, \n",
    "\n",
    "## Special requirement: 1. The number of charging stations must not exceed some bound\n",
    "## 2. The total number of charging stations must not exceed ... (after Fatima's model)\n",
    "\n",
    "citycentre = [184,185,186,198,199,200,201,213,214,215,229]\n",
    "\n",
    "prob.addConstraint(xp.Sum(init_points_pgrid[cg-1]+addstations[cg-1,3]+newstations[cg-1,3] for cg in citycentre) <= 30\n",
    "                  for y in Periods)"
   ]
  },
  {
   "cell_type": "code",
   "execution_count": 24,
   "id": "0f106062",
   "metadata": {},
   "outputs": [],
   "source": [
    "# Deficit = difference between the demand and supply of grid g \n",
    "prob.addConstraint( diff[g,y] == targetdemand[g,y] - tsupply[g,y] \n",
    "                   for g in Grids for y in Periods)\n",
    "\n"
   ]
  },
  {
   "cell_type": "code",
   "execution_count": 25,
   "id": "2ea5dd76",
   "metadata": {},
   "outputs": [],
   "source": [
    "## Diversification\n",
    "## Proportion of rapid chargers must not exceed 20%\n",
    "## xp.Sum(currentchargers[g,2] for g in Grids) = 13\n",
    "\n",
    "prob.addConstraint( xp.Sum(currentchargers[j,2] + newstationsty[j,2,3] + addstationsty[j,2,3] \n",
    "                           for j in Grids ) <= \n",
    "                    0.2*(number_of_chargers+ xp.Sum( newstationsty[g,c,3] + addstationsty[g,c,3] \n",
    "                                                    for c in Chargers for g in Grids )) )\n",
    "\n"
   ]
  },
  {
   "cell_type": "code",
   "execution_count": 26,
   "id": "da5f422a",
   "metadata": {
    "scrolled": true
   },
   "outputs": [],
   "source": [
    "## expenditure !!!\n",
    "# prob.addConstraint( budget == xp.Sum(chargerprice[c]*(newstationsty[g,c,y]+addstationsty[g,c,y]) \n",
    "#                                      for g in Grids for c in Chargers for y in Periods)\n",
    "#                    + concost*(xp.Sum(newpoint[g,y] for g in Grids for y in Periods)) )\n",
    "\n",
    "\n",
    "prob.addConstraint( budget == xp.Sum(chargerprice[c]*(newstationsty[g,c,3]+addstationsty[g,c,3]) \n",
    "                                     for g in Grids for c in Chargers )\n",
    "                   + concost*(xp.Sum(newpoint[g,3] for g in Grids)) )\n"
   ]
  },
  {
   "cell_type": "code",
   "execution_count": 27,
   "id": "115833e6",
   "metadata": {},
   "outputs": [],
   "source": [
    "## The limita\n",
    "prob.addConstraint( budget <= 10 * cbudget)"
   ]
  },
  {
   "cell_type": "code",
   "execution_count": 28,
   "id": "d6ad269e",
   "metadata": {},
   "outputs": [],
   "source": [
    "## unmet demand \n",
    "prob.addConstraint( diff[g,y] <= undemand[g,y] for g in Grids for y in Periods)\n"
   ]
  },
  {
   "cell_type": "code",
   "execution_count": 29,
   "id": "14f992c6",
   "metadata": {},
   "outputs": [],
   "source": [
    "#minimize the unmet demand \n",
    "\n",
    "prob.setObjective( xp.Sum(undemand[g,y] for g in Grids for y in Periods), \n",
    "                  sense = xp.minimize)"
   ]
  },
  {
   "cell_type": "code",
   "execution_count": 30,
   "id": "737bdae8",
   "metadata": {
    "scrolled": true
   },
   "outputs": [
    {
     "name": "stdout",
     "output_type": "stream",
     "text": [
      "FICO Xpress v8.13.7, Hyper, solve started 8:29:54, Nov 28, 2022\n",
      "Heap usage: 19MB (peak 19MB, 13MB system)\n",
      "Minimizing MILP pro using up to 8 threads, with these control settings:\n",
      "OUTPUTLOG = 1\n",
      "Original problem has:\n",
      "     41649 rows        31249 cols       107098 elements     20832 globals\n",
      "Presolved problem has:\n",
      "      5442 rows         3152 cols        16444 elements      2517 globals\n",
      "LP relaxation tightened\n",
      "Presolve finished in 0 seconds\n",
      "Heap usage: 25MB (peak 45MB, 13MB system)\n",
      "\n",
      "Coefficient range                    original                 solved        \n",
      "  Coefficients   [min,max] : [ 1.11e-01,  5.20e+04] / [ 1.27e-02,  1.97e+01]\n",
      "  RHS and bounds [min,max] : [ 1.00e+00,  1.75e+07] / [ 1.20e-03,  1.79e+04]\n",
      "  Objective      [min,max] : [ 1.00e+00,  1.00e+00] / [ 4.00e+00,  5.12e+02]\n",
      "Autoscaling applied Curtis-Reid scaling\n",
      "\n",
      "Symmetric problem: generators: 2, support set: 72\n",
      " Number of orbits: 24, largest orbit: 3\n",
      " Row orbits: 46, row support: 138\n",
      "Will try to keep branch and bound tree memory usage below 15.1GB\n",
      "Starting concurrent solve with dual (1 thread), primal (1 thread) and barrier (6 threads)\n",
      "\n",
      "                           Concurrent-Solve,   0s\n",
      "            Dual                      Primal                     Barrier      \n",
      "    objective   sum inf                                                       \n",
      " P   .0000000   .0000000 |                          |                         \n",
      "------- optimal -------- | ----- interrupted ------ | ----- interrupted ------\n",
      "Concurrent statistics:\n",
      "      Dual: 1085 simplex iterations, 0.03s\n",
      "    Primal: 2502 simplex iterations, 0.03s\n",
      "   Barrier: 7 barrier and 0 simplex iterations, 0.04s\n",
      "            Barrier used 6 threads 4 cores, L1\\L2 cache: 48K\\8192K\n",
      "            Barrier used AVX support\n",
      "Optimal solution found\n",
      " \n",
      "   Its         Obj Value      S   Ninf  Nneg        Sum Inf  Time\n",
      "  1085           .000000      P      0     0        .000000     0\n",
      "Dual solved problem\n",
      "  1085 simplex iterations in 0.04 seconds at time 0\n",
      "\n",
      "Final objective                       : 0.000000000000000e+00\n",
      "  Max primal violation      (abs/rel) : 8.327e-17 / 8.327e-17\n",
      "  Max dual violation        (abs/rel) :       0.0 /       0.0\n",
      "  Max complementarity viol. (abs/rel) :       0.0 /       0.0\n",
      "\n",
      "Starting root cutting & heuristics\n",
      " \n",
      " Its Type    BestSoln    BestBound   Sols    Add    Del     Gap     GInf   Time\n",
      "a         66820.23636      .000000      1               66820.2        0      0\n",
      "q         49893.42706      .000000      2               49893.4        0      0\n",
      "R         46587.44589      .000000      3               46587.4        0      0\n",
      "R         10145.82090      .000000      4               10145.8        0      0\n",
      "R         10058.11997      .000000      5               10058.1        0      0\n",
      "R         6733.320896      .000000      6               6733.32        0      0\n",
      "R         5220.559182      .000000      7               5220.56        0      0\n",
      "R          428.303416      .000000      8               428.303        0      0\n",
      "   1  K    428.303416      .000000      8    198      0 428.303      139      0\n",
      "   2  K    428.303416      .000000      8    307    153 428.303      222      0\n",
      "   3  K    428.303416      .000000      8    207    281 428.303      198      0\n",
      "   4  K    428.303416      .000000      8    228    211 428.303      170      0\n",
      "   5  K    428.303416      .000000      8    164    235 428.303      174      0\n",
      "   6  K    428.303416      .000000      8    101    158 428.303      186      0\n",
      "   7  K    428.303416      .000000      8     78    100 428.303      151      0\n",
      "   8  K    428.303416      .000000      8     70     79 428.303      146      0\n",
      "   9  K    428.303416      .000000      8    106     76 428.303      163      0\n",
      "R          295.347576      .000000      9               295.348        0      0\n",
      "R             .000000      .000000     10               0.0e+00        0      0\n",
      "STOPPING - MIPRELSTOP target reached (MIPRELSTOP=0.0001  gap=0).\n",
      " *** Search completed ***\n",
      "Uncrunching matrix\n",
      "Final MIP objective                   : 0.000000000000000e-01\n",
      "Final MIP bound                       : 0.000000000000000e-01\n",
      "  Solution time / primaldual integral :         0s/ 99.781138%\n",
      "  Number of solutions found / nodes   :        10 /         1\n",
      "  Max primal violation      (abs/rel) : 2.910e-11 / 2.910e-11\n",
      "  Max integer violation     (abs    ) : 8.882e-16\n"
     ]
    }
   ],
   "source": [
    "#prob.write(\"pro\",\"lp\")\n",
    "prob.solve()"
   ]
  },
  {
   "cell_type": "code",
   "execution_count": 31,
   "id": "b386053f",
   "metadata": {},
   "outputs": [],
   "source": [
    "#prob.iisfirst "
   ]
  },
  {
   "cell_type": "code",
   "execution_count": 32,
   "id": "b95544a4",
   "metadata": {
    "scrolled": false
   },
   "outputs": [
    {
     "data": {
      "text/plain": [
       "5774500.0"
      ]
     },
     "execution_count": 32,
     "metadata": {},
     "output_type": "execute_result"
    }
   ],
   "source": [
    "prob.getSolution(budget)"
   ]
  },
  {
   "cell_type": "code",
   "execution_count": 33,
   "id": "d9d26caa",
   "metadata": {
    "scrolled": true
   },
   "outputs": [],
   "source": [
    "# diff_df = pd.DataFrame(data = prob.getSolution(diff), index = Grids, columns=Periods )"
   ]
  },
  {
   "cell_type": "code",
   "execution_count": 45,
   "id": "f129950f",
   "metadata": {
    "scrolled": false
   },
   "outputs": [
    {
     "data": {
      "text/plain": [
       "{(89, 3): 6.0,\n",
       " (90, 3): 3.0,\n",
       " (108, 3): 4.0,\n",
       " (114, 3): 1.0,\n",
       " (118, 3): 6.0,\n",
       " (120, 3): 3.0,\n",
       " (122, 3): 4.0,\n",
       " (133, 3): 6.0,\n",
       " (144, 3): 8.0,\n",
       " (145, 3): 14.0,\n",
       " (146, 3): 4.0,\n",
       " (147, 3): 4.0,\n",
       " (161, 3): 1.0,\n",
       " (163, 3): 2.0,\n",
       " (170, 3): 1.0,\n",
       " (174, 3): 24.0,\n",
       " (175, 3): 26.0,\n",
       " (183, 3): 1.0,\n",
       " (186, 3): 4.0,\n",
       " (197, 3): 2.0,\n",
       " (202, 3): 4.0,\n",
       " (212, 3): 5.0,\n",
       " (213, 3): 2.0,\n",
       " (232, 3): 1.0,\n",
       " (241, 3): 1.0,\n",
       " (245, 3): 8.0,\n",
       " (246, 3): 4.0,\n",
       " (285, 3): 1.0,\n",
       " (286, 3): 1.0,\n",
       " (287, 3): 4.0,\n",
       " (290, 3): 3.0,\n",
       " (298, 3): 2.0,\n",
       " (315, 3): 5.0,\n",
       " (327, 3): 2.0,\n",
       " (341, 3): 1.0,\n",
       " (354, 3): 6.0,\n",
       " (355, 3): 4.0,\n",
       " (368, 3): 28.0,\n",
       " (381, 3): 2.0,\n",
       " (384, 3): 4.0,\n",
       " (396, 3): 3.0,\n",
       " (398, 3): 8.0,\n",
       " (399, 3): 12.0,\n",
       " (411, 3): 1.0}"
      ]
     },
     "execution_count": 45,
     "metadata": {},
     "output_type": "execute_result"
    }
   ],
   "source": [
    "a = prob.getSolution(newstations)\n",
    "\n",
    "{(g,y):x for (g,y),x in a.items() if x!=0 and y==3}\n",
    "#len({(g,y):x for (g,y),x in a.items() if x!=0 and y==1})"
   ]
  },
  {
   "cell_type": "code",
   "execution_count": 39,
   "id": "14522e1b",
   "metadata": {},
   "outputs": [
    {
     "data": {
      "text/plain": [
       "21"
      ]
     },
     "execution_count": 39,
     "metadata": {},
     "output_type": "execute_result"
    }
   ],
   "source": [
    "len({(g,y):x for (g,y),x in a.items() if x!=0 and y==1})"
   ]
  },
  {
   "cell_type": "code",
   "execution_count": 46,
   "id": "b31712dc",
   "metadata": {},
   "outputs": [
    {
     "data": {
      "text/plain": [
       "{(58, 3): 2.0,\n",
       " (75, 3): 1.0,\n",
       " (90, 3): 2.0,\n",
       " (128, 3): 2.0,\n",
       " (133, 3): 2.0,\n",
       " (143, 3): 2.0,\n",
       " (172, 3): 4.0,\n",
       " (185, 3): 1.0,\n",
       " (204, 3): 4.0,\n",
       " (227, 3): 6.0,\n",
       " (258, 3): 2.0,\n",
       " (273, 3): 2.0,\n",
       " (300, 3): 2.0,\n",
       " (313, 3): 2.0,\n",
       " (344, 3): 2.0,\n",
       " (368, 3): 2.0}"
      ]
     },
     "execution_count": 46,
     "metadata": {},
     "output_type": "execute_result"
    }
   ],
   "source": [
    "{(g,y):x for (g,y),x in prob.getSolution(addstations).items() if x!=0 and y==3}"
   ]
  },
  {
   "cell_type": "code",
   "execution_count": 36,
   "id": "34a5a63c",
   "metadata": {
    "scrolled": false
   },
   "outputs": [
    {
     "data": {
      "text/plain": [
       "{(118, 1): 1.0,\n",
       " (120, 1): 1.0,\n",
       " (133, 1): 1.0,\n",
       " (144, 1): 2.0,\n",
       " (146, 1): 1.0,\n",
       " (147, 1): 1.0,\n",
       " (174, 1): 4.0,\n",
       " (175, 1): 8.0,\n",
       " (183, 1): 1.0,\n",
       " (212, 1): 1.0,\n",
       " (241, 1): 1.0,\n",
       " (246, 1): 1.0,\n",
       " (285, 1): 1.0,\n",
       " (286, 1): 1.0,\n",
       " (287, 1): 1.0,\n",
       " (290, 1): 1.0,\n",
       " (298, 1): 1.0,\n",
       " (315, 1): 1.0,\n",
       " (354, 1): 2.0,\n",
       " (355, 1): 1.0,\n",
       " (381, 1): 1.0}"
      ]
     },
     "execution_count": 36,
     "metadata": {},
     "output_type": "execute_result"
    }
   ],
   "source": [
    "{(g,y):x for (g,y),x in prob.getSolution(newpoint).items() if x!=0 and y==1}"
   ]
  },
  {
   "cell_type": "code",
   "execution_count": 40,
   "id": "3d4e491c",
   "metadata": {},
   "outputs": [
    {
     "data": {
      "text/plain": [
       "21"
      ]
     },
     "execution_count": 40,
     "metadata": {},
     "output_type": "execute_result"
    }
   ],
   "source": [
    "len({(g,y):x for (g,y),x in prob.getSolution(newpoint).items() if x!=0 and y==1})"
   ]
  },
  {
   "cell_type": "code",
   "execution_count": null,
   "id": "0d16e138",
   "metadata": {
    "scrolled": false
   },
   "outputs": [],
   "source": [
    "## Output\n",
    "\n",
    "# undemand_df = pd.DataFrame(data = prob.getSolution(undemand), index = Grids, columns=Periods)\n",
    "\n",
    "# undemand_df.loc[(undemand_df!=0).any(1) ]"
   ]
  },
  {
   "cell_type": "code",
   "execution_count": null,
   "id": "f1fd174a",
   "metadata": {
    "scrolled": false
   },
   "outputs": [],
   "source": [
    "## see the grids with \n",
    "# tsupply_df = pd.DataFrame(data = prob.getSolution(tsupply), index = Grids, columns=Periods)\n",
    "\n",
    "# tsupply_df.loc[(tsupply_df!=0).any(1) ]"
   ]
  },
  {
   "cell_type": "code",
   "execution_count": null,
   "id": "8e0c1747",
   "metadata": {},
   "outputs": [],
   "source": []
  }
 ],
 "metadata": {
  "kernelspec": {
   "display_name": "Python 3 (ipykernel)",
   "language": "python",
   "name": "python3"
  },
  "language_info": {
   "codemirror_mode": {
    "name": "ipython",
    "version": 3
   },
   "file_extension": ".py",
   "mimetype": "text/x-python",
   "name": "python",
   "nbconvert_exporter": "python",
   "pygments_lexer": "ipython3",
   "version": "3.9.13"
  }
 },
 "nbformat": 4,
 "nbformat_minor": 5
}
