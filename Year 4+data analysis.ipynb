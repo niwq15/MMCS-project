{
 "cells": [
  {
   "cell_type": "code",
   "execution_count": 1,
   "id": "9a6abaae",
   "metadata": {},
   "outputs": [],
   "source": [
    "import pandas as pd\n",
    "import numpy as np\n",
    "\n",
    "import re"
   ]
  },
  {
   "cell_type": "code",
   "execution_count": 2,
   "id": "cadb8bef",
   "metadata": {},
   "outputs": [],
   "source": [
    "# Data input\n",
    "demand = pd.read_excel('Demand_data1.xlsx')\n",
    "#chargepoints = pd.read_excel('Charging_points.xlsx')\n",
    "#potentialcharge = pd.read_excel('Potential_charging_points.xlsx')\n",
    "#interest = pd.read_excel('Interest _points.xlsx')"
   ]
  },
  {
   "cell_type": "code",
   "execution_count": 3,
   "id": "a9284539",
   "metadata": {},
   "outputs": [],
   "source": [
    "# Defining the index sets\n",
    "#number_of_periods = 4\n",
    "number_of_grids = 434\n",
    "type_of_chargers = 3\n",
    "\n",
    "number_of_chargers = 78\n",
    "number_of_pchargers = 325\n",
    "\n",
    "#Periods = range(number_of_years)\n",
    "Grids = range(number_of_grids)\n",
    "Chargers = range(type_of_chargers)\n",
    "\n",
    "charger_names = ['Slow', 'Fast', 'Rapid']\n",
    "chargerpower = [2750, 4600, 40250]\n",
    "chargerprice = [2500, 4000, 8000] ## for slow, fast, rapid chargers\n",
    "concost = 100000 ## infrastructure construction cost\n",
    "\n",
    "\n",
    "# Creating various variables\n",
    "\n",
    "# demand matrix for each grid -- year 4 demand\n",
    "targetdemand = demand['Demand_3']\n",
    "targetdemand = targetdemand.to_numpy()\n",
    "\n",
    "# maximum number of charging stations in each charging point \n",
    "maxchargestation = [20 for i in range(number_of_chargers+number_of_pchargers)] ## 20 as default bound\n",
    "\n",
    "\n",
    "#Currentchargers = chargepoints[['Type','grid_number']]\n",
    "# Current chargers availability:\n",
    "currentchargers = demand[['Number_of Slow_Charging_Points','Number_of_Fast_Charging_Points','Number_of Rapid_Charging_Points']]\n",
    "currentchargers = currentchargers.to_numpy()\n",
    "\n",
    "# Potential chargers\n",
    "pochargers = demand[['Ref', 'Number_of_Potential_Locations']]\n",
    "pochargers = pochargers.to_numpy()"
   ]
  },
  {
   "cell_type": "code",
   "execution_count": 4,
   "id": "ce6355ab",
   "metadata": {},
   "outputs": [],
   "source": [
    "## Another way to input 'num_of_share'\n",
    "## ‘num_of_share’: matrix of the number of neighbors plus 1 (itself) [434*1]\n",
    "## 3 cases: 4 (vertices), 6 (sided except vertices), 9 (others)\n",
    "# num_of_share = np.full(number_of_grids,9)\n",
    "# ## some special points in the sides and vertices\n",
    "# ## vertices: G1,14,421,434 (-1 for index) -- vertices only have 3 neighbours\n",
    "# for i in {1,14,421,434}:\n",
    "#     num_of_share[i-1] = 4\n",
    "# for j in range(29):\n",
    "#     num_of_share[1+14*(j+1)-1] = 6\n",
    "#     num_of_share[14+14*(j+1)-1] = 6\n",
    "# num_of_share[1:13]=6\n",
    "# num_of_share[421:433]=6\n"
   ]
  },
  {
   "cell_type": "code",
   "execution_count": 5,
   "id": "a18e2525",
   "metadata": {},
   "outputs": [],
   "source": [
    "## 'neighbours': matrix of neighbors and itself [343*9, 0 will be filled if num_of_share <9]\n",
    "## each grid and its neighbours can support charging\n",
    "neighbors = demand['NEIGHBORS']\n",
    "\n",
    "neighbours = np.zeros((number_of_grids,9))\n",
    "for g in Grids:\n",
    "    nums = neighbors.iloc[g]\n",
    "    num = re.findall(r'\\d+', nums)\n",
    "    num = list(map(int, num))\n",
    "    num = np.append(arr = np.array([g+1]), values = num, axis= 0) ## add itself to the start\n",
    "    #num.append(g+1) ## add itself\n",
    "    while len(num)<9: ## fill in zeroes for grids with less than 9 neighbors\n",
    "        #num.append(0)\n",
    "        num = np.append( arr = np.array([0]), values = num, axis=0)\n",
    "        \n",
    "    neighbours[g,]=num\n",
    "    \n",
    "neighbours = neighbours.astype(int) ## convert to an integer array"
   ]
  },
  {
   "cell_type": "code",
   "execution_count": 6,
   "id": "cbebf764",
   "metadata": {},
   "outputs": [],
   "source": [
    "for g in Grids:\n",
    "    for i in range(9):\n",
    "            ne = neighbours[g,i]\n",
    "            if ne >0:\n",
    "            ## remove those grids with no demand (based on Year 4 data)\n",
    "                if (targetdemand[ne-1]==0) : \n",
    "                    neighbours[ne-1,][neighbours[ne-1,]== (g+1)] = 0 \n",
    "                    neighbours[g,i] = 0 "
   ]
  },
  {
   "cell_type": "code",
   "execution_count": 7,
   "id": "806d470a",
   "metadata": {},
   "outputs": [],
   "source": [
    "num_of_share = (neighbours != 0).sum(1)"
   ]
  },
  {
   "cell_type": "code",
   "execution_count": 8,
   "id": "1bd38fa6",
   "metadata": {},
   "outputs": [],
   "source": [
    "## 'cpower': the total charging power that can be provided by each grid (only consider current charging points)\n",
    "cpower = np.zeros(number_of_grids)\n",
    "for g in Grids:\n",
    "    for c in Chargers:\n",
    "        cpower[g] = cpower[g] + chargerpower[c]*currentchargers[g,c]"
   ]
  },
  {
   "cell_type": "code",
   "execution_count": 9,
   "id": "b65d5ece",
   "metadata": {},
   "outputs": [],
   "source": [
    "## 'tpower': total power that will be allocated to each gird\n",
    "tpower = np.zeros(number_of_grids)\n",
    "\n",
    "for g in Grids: ## each grid\n",
    "    for ne in neighbours[g,]: ## each neighbour and itself\n",
    "        if ne>1:\n",
    "            tpower[g] = tpower[g] + cpower[ne-1]/num_of_share[ne-1]\n"
   ]
  },
  {
   "cell_type": "code",
   "execution_count": 10,
   "id": "29679eda",
   "metadata": {},
   "outputs": [],
   "source": [
    "## 'diff': the difference between demand and supply for each grid\n",
    "diff = np.zeros(number_of_grids)\n",
    "for g in Grids:\n",
    "    diff[g] = diff[g] + targetdemand[g] - tpower[g]\n",
    "\n",
    "## diff[74:78]"
   ]
  },
  {
   "cell_type": "code",
   "execution_count": 11,
   "id": "0a6157c4",
   "metadata": {},
   "outputs": [
    {
     "data": {
      "text/plain": [
       "71536.63674940962"
      ]
     },
     "execution_count": 11,
     "metadata": {},
     "output_type": "execute_result"
    }
   ],
   "source": [
    "## find the grid with  \n",
    "max( diff[g] for g in Grids ) ## G199\n",
    "\n",
    "## v2: 72020.92700438993\n",
    "## v3: 70466.49786052073\n",
    "## v4: 68677.60897163185"
   ]
  },
  {
   "cell_type": "code",
   "execution_count": 12,
   "id": "2bf2dafc",
   "metadata": {},
   "outputs": [
    {
     "data": {
      "text/plain": [
       "653338.3958766445"
      ]
     },
     "execution_count": 12,
     "metadata": {},
     "output_type": "execute_result"
    }
   ],
   "source": [
    "## calculate the total unmet demand\n",
    "unmet = 0\n",
    "\n",
    "for g in Grids:\n",
    "    if diff[g] > 0:\n",
    "        unmet = unmet + diff[g]\n",
    "\n",
    "unmet\n",
    "\n",
    "## Using the assumption of one grid evenly sharing its power to all its neighbours\n",
    "## original unmet demand: 732791.6610353214\n",
    "\n",
    "## Adding the constraint of not sharing power to grids without demand\n",
    "## updated unmet demand: 653338.3958766445"
   ]
  },
  {
   "cell_type": "code",
   "execution_count": 13,
   "id": "36116ae0",
   "metadata": {
    "scrolled": true
   },
   "outputs": [
    {
     "name": "stdout",
     "output_type": "stream",
     "text": [
      "119 10126.838849934848\n",
      "148 14431.673427852998\n",
      "149 10714.232983138912\n",
      "160 17582.302416328734\n",
      "161 10724.565650181456\n",
      "185 13427.481649888614\n",
      "186 11486.046538966257\n",
      "198 11314.9174817399\n"
     ]
    }
   ],
   "source": [
    "for g in Grids:\n",
    "    if (diff[g] > 10000) & (diff[g] < 20000) :\n",
    "        print(g+1, diff[g])"
   ]
  },
  {
   "cell_type": "code",
   "execution_count": 14,
   "id": "73278e9f",
   "metadata": {},
   "outputs": [
    {
     "name": "stdout",
     "output_type": "stream",
     "text": [
      "8093500\n"
     ]
    }
   ],
   "source": [
    "## expenditure\n",
    "budget = 0\n",
    "\n",
    "for g in Grids:\n",
    "    for c in Chargers:\n",
    "        budget += chargerprice[c]*currentchargers[g,c]\n",
    "    \n",
    "\n",
    "    \n",
    "budget = budget + number_of_chargers*concost\n",
    "    \n",
    "print(budget)"
   ]
  },
  {
   "cell_type": "code",
   "execution_count": 15,
   "id": "01d37bca",
   "metadata": {},
   "outputs": [],
   "source": [
    "## check the grids with unmet demand\n",
    "#i = 0\n",
    "#for g in Grids:\n",
    "#    if diff[g] > 0:\n",
    "#        i = i +1\n",
    "#        print(g, diff[g])\n",
    "        \n",
    "#print(i)"
   ]
  }
 ],
 "metadata": {
  "kernelspec": {
   "display_name": "Python 3 (ipykernel)",
   "language": "python",
   "name": "python3"
  },
  "language_info": {
   "codemirror_mode": {
    "name": "ipython",
    "version": 3
   },
   "file_extension": ".py",
   "mimetype": "text/x-python",
   "name": "python",
   "nbconvert_exporter": "python",
   "pygments_lexer": "ipython3",
   "version": "3.9.13"
  }
 },
 "nbformat": 4,
 "nbformat_minor": 5
}
